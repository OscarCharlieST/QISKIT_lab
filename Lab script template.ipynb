{
 "cells": [
  {
   "cell_type": "markdown",
   "metadata": {},
   "source": [
    "# IBM Quantum Experience Lab - Lab script"
   ]
  },
  {
   "cell_type": "markdown",
   "metadata": {},
   "source": [
    "Please use this notebook as a template for the work that you will submit for assessment for this lab exercise.\n",
    "\n",
    "Student Names: ENTER YOUR NAMES HERE"
   ]
  },
  {
   "cell_type": "markdown",
   "metadata": {},
   "source": [
    "## Warm up exercise"
   ]
  },
  {
   "cell_type": "code",
   "execution_count": 1,
   "metadata": {},
   "outputs": [],
   "source": [
    "from qiskit import QuantumCircuit, ClassicalRegister, QuantumRegister\n",
    "from qiskit import execute, Aer\n",
    "from qiskit.tools.visualization import circuit_drawer\n",
    "from qiskit import Aer\n",
    "import matplotlib.pyplot as plt"
   ]
  },
  {
   "cell_type": "code",
   "execution_count": 2,
   "metadata": {},
   "outputs": [
    {
     "data": {
      "image/png": "[encoded data removed]",
      "text/plain": [
       "<Figure size 640x480 with 1 Axes>"
      ]
     },
     "metadata": {},
     "output_type": "display_data"
    }
   ],
   "source": [
    "qr = QuantumRegister(1)\n",
    "cr = ClassicalRegister(1)\n",
    "circuit = QuantumCircuit(qr, cr)\n",
    "\n",
    "circuit.h(qr[0])\n",
    "circuit.measure(qr[0],cr[0])\n",
    "\n",
    "\n",
    "backend = Aer.get_backend('qasm_simulator')\n",
    "\n",
    "def get_expectation(result,circuit):\n",
    "    return (result.get_counts(circuit)['0']-result.get_counts(circuit)['1'])/ (result.get_counts(circuit)['0'] + result.get_counts(circuit)['1'])\n",
    "                                                                    \n",
    "expectation_values = []\n",
    "for n in range(1,26):\n",
    "    job = execute(circuit, backend,shots=2**n)\n",
    "    result = job.result()\n",
    "    expectation_values.append(get_expectation(result,circuit))\n",
    "\n",
    "plt.plot([n for n in range(1,26)], expectation_values, '.')\n",
    "plt.xlabel('Number of shots (log scale)')\n",
    "plt.ylabel('Expectation value of Z')\n",
    "plt.show()"
   ]
  },
  {
   "attachments": {},
   "cell_type": "markdown",
   "metadata": {},
   "source": [
    "# Main Lab Exercise"
   ]
  },
  {
   "cell_type": "markdown",
   "metadata": {},
   "source": []
  },
  {
   "cell_type": "code",
   "execution_count": 40,
   "metadata": {},
   "outputs": [],
   "source": [
    "import math\n",
    "import numpy as np\n",
    "#Functions\n",
    "def get_expectation(circuit,backend,logshots):\n",
    "    job = execute(circuit, backend,shots=2**logshots)\n",
    "    result = job.result().get_counts(circuit) \n",
    "    keys = list(result.keys())\n",
    "    if set(keys) == set(['0','1']):\n",
    "        return (result['0']-result['1'])/(result['0']+result['1'])   \n",
    "    elif keys == ['0']:\n",
    "        return 1.0\n",
    "    elif keys == ['1']:\n",
    "        return -1.0\n",
    "\n",
    "def get_expectation_distribution(circuit, logshot, backend, draw=False):\n",
    "    expectation_values = []\n",
    "    for n in range(1,logshot):\n",
    "        expectation_values.append(get_expectation(circuit,backend,n))\n",
    "    if draw == True:\n",
    "        plt.plot([n for n in range(1,logshot)], expectation_values, '.')\n",
    "        plt.xlabel('Number of shots (log scale)')\n",
    "        plt.ylabel('Expectation value of Z')\n",
    "        plt.show()\n",
    "        plt.close()\n",
    "    return expectation_values\n",
    "\n",
    "def initial_state(phi):\n",
    "    state = math.cos(phi)*np.array([1,0]) + 1j*math.sin(phi)* np.array([0,1])\n",
    "    return state\n"
   ]
  },
  {
   "cell_type": "code",
   "execution_count": 41,
   "metadata": {},
   "outputs": [
    {
     "data": {
      "text/html": [
       "<pre style=\"word-wrap: normal;white-space: pre;background: #fff0;line-height: 1.1;font-family: &quot;Courier New&quot;,Courier,monospace\">       ┌──────────────────────────────┐┌─────────┐┌───┐┌─┐\n",
       " q238: ┤ Initialize(0.70711,0.70711j) ├┤ P(-π/8) ├┤ H ├┤M├\n",
       "       └──────────────────────────────┘└─────────┘└───┘└╥┘\n",
       "c62: 1/═════════════════════════════════════════════════╩═\n",
       "                                                        0 </pre>"
      ],
      "text/plain": [
       "       ┌──────────────────────────────┐┌─────────┐┌───┐┌─┐\n",
       " q238: ┤ Initialize(0.70711,0.70711j) ├┤ P(-π/8) ├┤ H ├┤M├\n",
       "       └──────────────────────────────┘└─────────┘└───┘└╥┘\n",
       "c62: 1/═════════════════════════════════════════════════╩═\n",
       "                                                        0 "
      ]
     },
     "execution_count": 41,
     "metadata": {},
     "output_type": "execute_result"
    }
   ],
   "source": [
    "# Method 1 - apply HU^dagger(theta) and measure Z\n",
    "\n",
    "#Build the cirquit\n",
    "def method_1_circuit(theta, phi):\n",
    "    qr = QuantumRegister(1)\n",
    "    cr = ClassicalRegister(1)\n",
    "    circuit = QuantumCircuit(qr, cr)\n",
    "    circuit.initialize(initial_state(phi), qr[0])\n",
    "    circuit.p(-theta, qr[0])\n",
    "    circuit.h(qr[0])\n",
    "    circuit.measure(qr[0],cr[0])\n",
    "    return circuit\n",
    "\n",
    "circuit_drawer(method_1_circuit(theta=math.pi/8, phi=math.pi/4))"
   ]
  },
  {
   "cell_type": "code",
   "execution_count": 43,
   "metadata": {},
   "outputs": [
    {
     "data": {
      "text/html": [
       "<pre style=\"word-wrap: normal;white-space: pre;background: #fff0;line-height: 1.1;font-family: &quot;Courier New&quot;,Courier,monospace\">       ┌─────────────────┐┌───┐┌─┐\n",
       " q244: ┤ Initialize(1,0) ├┤ H ├┤M├\n",
       "       └─────────────────┘└───┘└╥┘\n",
       "c64: 1/═════════════════════════╩═\n",
       "                                0 </pre>"
      ],
      "text/plain": [
       "       ┌─────────────────┐┌───┐┌─┐\n",
       " q244: ┤ Initialize(1,0) ├┤ H ├┤M├\n",
       "       └─────────────────┘└───┘└╥┘\n",
       "c64: 1/═════════════════════════╩═\n",
       "                                0 "
      ]
     },
     "execution_count": 43,
     "metadata": {},
     "output_type": "execute_result"
    }
   ],
   "source": [
    "# Method 2\n",
    "# M(theta) = cos(theta)X + sin(theta)Y\n",
    "# alpha = cos(theta) ; beta = sin(theta)\n",
    "\n",
    "#Build the cirquits\n",
    "\n",
    "#Measure X expectation value circuit\n",
    "def method_2_X_circuit(theta,phi):\n",
    "    qr = QuantumRegister(1)\n",
    "    cr = ClassicalRegister(1)\n",
    "    circuit = QuantumCircuit(qr, cr)\n",
    "    circuit.initialize(initial_state(phi), qr[0])\n",
    "    circuit.h(qr[0])\n",
    "    circuit.measure(qr[0],cr[0])\n",
    "    circuit_drawer(circuit)\n",
    "    return circuit\n",
    "\n",
    "\n",
    "circuit_drawer(method_2_X_circuit(theta=math.pi/4, phi=0))"
   ]
  },
  {
   "cell_type": "code",
   "execution_count": 44,
   "metadata": {},
   "outputs": [
    {
     "data": {
      "text/html": [
       "<pre style=\"word-wrap: normal;white-space: pre;background: #fff0;line-height: 1.1;font-family: &quot;Courier New&quot;,Courier,monospace\">       ┌─────────────────┐┌─────────┐┌───┐┌─┐\n",
       " q245: ┤ Initialize(1,0) ├┤ P(-π/2) ├┤ H ├┤M├\n",
       "       └─────────────────┘└─────────┘└───┘└╥┘\n",
       "c65: 1/════════════════════════════════════╩═\n",
       "                                           0 </pre>"
      ],
      "text/plain": [
       "       ┌─────────────────┐┌─────────┐┌───┐┌─┐\n",
       " q245: ┤ Initialize(1,0) ├┤ P(-π/2) ├┤ H ├┤M├\n",
       "       └─────────────────┘└─────────┘└───┘└╥┘\n",
       "c65: 1/════════════════════════════════════╩═\n",
       "                                           0 "
      ]
     },
     "execution_count": 44,
     "metadata": {},
     "output_type": "execute_result"
    }
   ],
   "source": [
    "#Measure Y expectation value circuit\n",
    "def method_2_Y_circuit(theta,phi):\n",
    "    qr = QuantumRegister(1)\n",
    "    cr = ClassicalRegister(1)\n",
    "    circuit = QuantumCircuit(qr, cr)\n",
    "    circuit.initialize(initial_state(phi), qr[0])\n",
    "    circuit.p(-math.pi/2,qr[0])\n",
    "    circuit.h(qr[0])\n",
    "    circuit.measure(qr[0],cr[0])\n",
    "    circuit_drawer(circuit)\n",
    "    return circuit\n",
    "\n",
    "circuit_drawer(method_2_Y_circuit(theta=math.pi/4, phi=0))"
   ]
  },
  {
   "cell_type": "code",
   "execution_count": 45,
   "metadata": {},
   "outputs": [],
   "source": [
    "def method1(theta,phi,backend,shots):\n",
    "    circuit = method_1_circuit(theta, phi)\n",
    "    return get_expectation(circuit,backend,shots)\n",
    "\n",
    "def method2(theta,phi,backend,shots):\n",
    "    circuit_X = method_2_X_circuit(theta, phi)\n",
    "    expectation_X = get_expectation(circuit_X,backend,shots)\n",
    "    circuit_Y = method_2_Y_circuit(theta,phi)\n",
    "    expectation_Y = get_expectation(circuit_Y,backend,shots)\n",
    "    expectation_M = math.cos(theta)*expectation_X + math.sin(theta)*expectation_Y\n",
    "    return expectation_M"
   ]
  },
  {
   "cell_type": "code",
   "execution_count": 50,
   "metadata": {},
   "outputs": [
    {
     "name": "stdout",
     "output_type": "stream",
     "text": [
      "Expectation value method 1: 0.0002079010009765625\n",
      "Expectation value method 2: 0.0002360223516610066\n"
     ]
    }
   ],
   "source": [
    "theta=math.pi/4\n",
    "phi=0\n",
    "shots = 20 #log scale\n",
    "backend = Aer.get_backend('qasm_simulator')\n",
    "print('Expectation value method 1:', method1(theta,phi,backend,shots))\n",
    "print('Expectation value method 2:', method2(theta,phi,backend,shots))"
   ]
  },
  {
   "cell_type": "code",
   "execution_count": 47,
   "metadata": {},
   "outputs": [
    {
     "name": "stdout",
     "output_type": "stream",
     "text": [
      "Expectation value method 1: 0.3817634582519531\n",
      "Expectation value method 2: 0.38471167894315467\n"
     ]
    }
   ],
   "source": [
    "theta=math.pi/8\n",
    "phi=math.pi/4\n",
    "shots = 20 #log scale\n",
    "backend = Aer.get_backend('qasm_simulator')\n",
    "print('Expectation value method 1:', method1(theta,phi,backend,shots))\n",
    "print('Expectation value method 2:', method2(theta,phi,backend,shots))"
   ]
  },
  {
   "cell_type": "code",
   "execution_count": null,
   "metadata": {},
   "outputs": [],
   "source": []
  }
 ],
 "metadata": {
  "kernelspec": {
   "display_name": "Python 3",
   "language": "python",
   "name": "python3"
  },
  "language_info": {
   "codemirror_mode": {
    "name": "ipython",
    "version": 3
   },
   "file_extension": ".py",
   "mimetype": "text/x-python",
   "name": "python",
   "nbconvert_exporter": "python",
   "pygments_lexer": "ipython3",
   "version": "3.10.0"
  },
  "vscode": {
   "interpreter": {
    "hash": "d165de98b18a6a94d45de9140d86a563bdc2085c28b17ab461548dad74884ef1"
   }
  }
 },
 "nbformat": 4,
 "nbformat_minor": 4
}
