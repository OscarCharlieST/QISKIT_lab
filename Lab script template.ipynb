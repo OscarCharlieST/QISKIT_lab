{
 "cells": [
  {
   "cell_type": "markdown",
   "metadata": {},
   "source": [
    "# IBM Quantum Experience Lab - Lab script"
   ]
  },
  {
   "cell_type": "markdown",
   "metadata": {},
   "source": [
    "Please use this notebook as a template for the work that you will submit for assessment for this lab exercise.\n",
    "\n",
    "Student Names: ENTER YOUR NAMES HERE"
   ]
  },
  {
   "cell_type": "markdown",
   "metadata": {},
   "source": [
    "## Warm up exercise"
   ]
  },
  {
   "cell_type": "code",
   "execution_count": 6,
   "metadata": {},
   "outputs": [],
   "source": [
    "from qiskit import QuantumCircuit, ClassicalRegister, QuantumRegister\n",
    "from qiskit import execute, Aer\n",
    "from qiskit.tools.visualization import circuit_drawer\n",
    "from qiskit import Aer\n",
    "import matplotlib.pyplot as plt"
   ]
  },
  {
   "cell_type": "code",
   "execution_count": 2,
   "metadata": {},
   "outputs": [
    {
     "data": {
      "image/png": "[encoded data removed]",
      "text/plain": [
       "<Figure size 640x480 with 1 Axes>"
      ]
     },
     "metadata": {},
     "output_type": "display_data"
    }
   ],
   "source": [
    "qr = QuantumRegister(1)\n",
    "cr = ClassicalRegister(1)\n",
    "circuit = QuantumCircuit(qr, cr)\n",
    "\n",
    "circuit.h(qr[0])\n",
    "circuit.measure(qr[0],cr[0])\n",
    "\n",
    "\n",
    "backend = Aer.get_backend('qasm_simulator')\n",
    "\n",
    "def get_expectation(result,circuit):\n",
    "    return (result.get_counts(circuit)['0']-result.get_counts(circuit)['1'])/ (result.get_counts(circuit)['0'] + result.get_counts(circuit)['1'])\n",
    "                                                                    \n",
    "expectation_values = []\n",
    "for n in range(1,26):\n",
    "    job = execute(circuit, backend,shots=2**n)\n",
    "    result = job.result()\n",
    "    expectation_values.append(get_expectation(result,circuit))\n",
    "\n",
    "plt.plot([n for n in range(1,26)], expectation_values, '.')\n",
    "plt.xlabel('Number of shots (log scale)')\n",
    "plt.ylabel('Expectation value of Z')\n",
    "plt.show()"
   ]
  },
  {
   "attachments": {},
   "cell_type": "markdown",
   "metadata": {},
   "source": [
    "# Main Lab Exercise"
   ]
  },
  {
   "cell_type": "markdown",
   "metadata": {},
   "source": []
  },
  {
   "cell_type": "code",
   "execution_count": 71,
   "metadata": {},
   "outputs": [],
   "source": [
    "import math\n",
    "import numpy as np\n",
    "import time\n",
    "\n",
    "#Functions\n",
    "def get_expectation(circuit,backend,logshots):\n",
    "    job = execute(circuit, backend,shots=2**logshots)\n",
    "    result = job.result().get_counts(circuit)\n",
    "    runtime = result.time_taken\n",
    "    keys = list(result.keys())\n",
    "    if set(keys) == set(['0','1']):\n",
    "        return (result['0']-result['1'])/(result['0']+result['1']) , runtime\n",
    "    elif keys == ['0']:\n",
    "        return 1.0, runtime\n",
    "    elif keys == ['1']:\n",
    "        return -1.0, runtime\n",
    "\n",
    "def get_expectation_distribution(circuit, logshot, backend, draw=False):\n",
    "    expectation_values = []\n",
    "    for n in range(1,logshot):\n",
    "        expectation_values.append(get_expectation(circuit,backend,n))\n",
    "    if draw == True:\n",
    "        plt.plot([n for n in range(1,logshot)], expectation_values, '.')\n",
    "        plt.xlabel('Number of shots (log scale)')\n",
    "        plt.ylabel('Expectation value of Z')\n",
    "        plt.show()\n",
    "        plt.close()\n",
    "    return expectation_values\n",
    "\n",
    "def initial_state(phi):\n",
    "    state = math.cos(phi)*np.array([1,0]) + 1j*math.sin(phi)* np.array([0,1])\n",
    "    return state\n"
   ]
  },
  {
   "cell_type": "code",
   "execution_count": 8,
   "metadata": {},
   "outputs": [
    {
     "data": {
      "text/html": [
       "<pre style=\"word-wrap: normal;white-space: pre;background: #fff0;line-height: 1.1;font-family: &quot;Courier New&quot;,Courier,monospace\">      ┌──────────────────────────────┐┌─────────┐┌───┐┌─┐\n",
       "  q0: ┤ Initialize(0.70711,0.70711j) ├┤ P(-π/8) ├┤ H ├┤M├\n",
       "      └──────────────────────────────┘└─────────┘└───┘└╥┘\n",
       "c0: 1/═════════════════════════════════════════════════╩═\n",
       "                                                       0 </pre>"
      ],
      "text/plain": [
       "      ┌──────────────────────────────┐┌─────────┐┌───┐┌─┐\n",
       "  q0: ┤ Initialize(0.70711,0.70711j) ├┤ P(-π/8) ├┤ H ├┤M├\n",
       "      └──────────────────────────────┘└─────────┘└───┘└╥┘\n",
       "c0: 1/═════════════════════════════════════════════════╩═\n",
       "                                                       0 "
      ]
     },
     "execution_count": 8,
     "metadata": {},
     "output_type": "execute_result"
    }
   ],
   "source": [
    "# Method 1 - apply HU^dagger(theta) and measure Z\n",
    "\n",
    "#Build the cirquit\n",
    "def method_1_circuit(theta, phi):\n",
    "    qr = QuantumRegister(1)\n",
    "    cr = ClassicalRegister(1)\n",
    "    circuit = QuantumCircuit(qr, cr)\n",
    "    circuit.initialize(initial_state(phi), qr[0])\n",
    "    circuit.p(-theta, qr[0])\n",
    "    circuit.h(qr[0])\n",
    "    circuit.measure(qr[0],cr[0])\n",
    "    return circuit\n",
    "\n",
    "circuit_drawer(method_1_circuit(theta=math.pi/8, phi=math.pi/4))"
   ]
  },
  {
   "cell_type": "code",
   "execution_count": 9,
   "metadata": {},
   "outputs": [
    {
     "data": {
      "text/html": [
       "<pre style=\"word-wrap: normal;white-space: pre;background: #fff0;line-height: 1.1;font-family: &quot;Courier New&quot;,Courier,monospace\">      ┌─────────────────┐┌───┐┌─┐\n",
       "  q1: ┤ Initialize(1,0) ├┤ H ├┤M├\n",
       "      └─────────────────┘└───┘└╥┘\n",
       "c1: 1/═════════════════════════╩═\n",
       "                               0 </pre>"
      ],
      "text/plain": [
       "      ┌─────────────────┐┌───┐┌─┐\n",
       "  q1: ┤ Initialize(1,0) ├┤ H ├┤M├\n",
       "      └─────────────────┘└───┘└╥┘\n",
       "c1: 1/═════════════════════════╩═\n",
       "                               0 "
      ]
     },
     "execution_count": 9,
     "metadata": {},
     "output_type": "execute_result"
    }
   ],
   "source": [
    "# Method 2\n",
    "# M(theta) = cos(theta)X + sin(theta)Y\n",
    "# alpha = cos(theta) ; beta = sin(theta)\n",
    "\n",
    "#Build the cirquits\n",
    "\n",
    "#Measure X expectation value circuit\n",
    "def method_2_X_circuit(theta,phi):\n",
    "    qr = QuantumRegister(1)\n",
    "    cr = ClassicalRegister(1)\n",
    "    circuit = QuantumCircuit(qr, cr)\n",
    "    circuit.initialize(initial_state(phi), qr[0])\n",
    "    circuit.h(qr[0])\n",
    "    circuit.measure(qr[0],cr[0])\n",
    "    circuit_drawer(circuit)\n",
    "    return circuit\n",
    "\n",
    "\n",
    "circuit_drawer(method_2_X_circuit(theta=math.pi/4, phi=0))"
   ]
  },
  {
   "cell_type": "code",
   "execution_count": 10,
   "metadata": {},
   "outputs": [
    {
     "data": {
      "text/html": [
       "<pre style=\"word-wrap: normal;white-space: pre;background: #fff0;line-height: 1.1;font-family: &quot;Courier New&quot;,Courier,monospace\">      ┌─────────────────┐┌─────────┐┌───┐┌─┐\n",
       "  q2: ┤ Initialize(1,0) ├┤ P(-π/2) ├┤ H ├┤M├\n",
       "      └─────────────────┘└─────────┘└───┘└╥┘\n",
       "c2: 1/════════════════════════════════════╩═\n",
       "                                          0 </pre>"
      ],
      "text/plain": [
       "      ┌─────────────────┐┌─────────┐┌───┐┌─┐\n",
       "  q2: ┤ Initialize(1,0) ├┤ P(-π/2) ├┤ H ├┤M├\n",
       "      └─────────────────┘└─────────┘└───┘└╥┘\n",
       "c2: 1/════════════════════════════════════╩═\n",
       "                                          0 "
      ]
     },
     "execution_count": 10,
     "metadata": {},
     "output_type": "execute_result"
    }
   ],
   "source": [
    "#Measure Y expectation value circuit\n",
    "def method_2_Y_circuit(theta,phi):\n",
    "    qr = QuantumRegister(1)\n",
    "    cr = ClassicalRegister(1)\n",
    "    circuit = QuantumCircuit(qr, cr)\n",
    "    circuit.initialize(initial_state(phi), qr[0])\n",
    "    circuit.p(-math.pi/2,qr[0])\n",
    "    circuit.h(qr[0])\n",
    "    circuit.measure(qr[0],cr[0])\n",
    "    circuit_drawer(circuit)\n",
    "    return circuit\n",
    "\n",
    "circuit_drawer(method_2_Y_circuit(theta=math.pi/4, phi=0))"
   ]
  },
  {
   "cell_type": "code",
   "execution_count": 75,
   "metadata": {},
   "outputs": [],
   "source": [
    "def method1(theta,phi,backend,shots):\n",
    "    circuit = method_1_circuit(theta, phi)\n",
    "    return get_expectation(circuit,backend,shots)\n",
    "\n",
    "def method2(theta,phi,backend,shots):\n",
    "    '''\n",
    "    Output: expectation value, job status of circuit X, job status of circuit Y\n",
    "    '''\n",
    "    circuit_X = method_2_X_circuit(theta, phi)\n",
    "    expectation_X = get_expectation(circuit_X,backend,shots)[0]\n",
    "    circuit_Y = method_2_Y_circuit(theta,phi)\n",
    "    expectation_Y = get_expectation(circuit_Y,backend,shots)[0]\n",
    "    expectation_M = math.cos(theta)*expectation_X + math.sin(theta)*expectation_Y\n",
    "    return expectation_M, get_expectation(circuit_X,backend,shots)[1], get_expectation(circuit_Y,backend,shots)[1]"
   ]
  },
  {
   "cell_type": "code",
   "execution_count": 24,
   "metadata": {},
   "outputs": [],
   "source": [
    "#Establish shots and backend simulator\n",
    "shots = 20 #log scale\n",
    "backend = Aer.get_backend('qasm_simulator')"
   ]
  },
  {
   "cell_type": "code",
   "execution_count": 25,
   "metadata": {},
   "outputs": [
    {
     "name": "stdout",
     "output_type": "stream",
     "text": [
      "Expectation value method 1: 0.0008182525634765625\n",
      "JobStatus.DONE\n",
      "Expectation value method 2: -0.0006905339660024879\n"
     ]
    }
   ],
   "source": [
    "#State 1\n",
    "theta_1=math.pi/4\n",
    "phi_1=0\n",
    "print('Expectation value method 1:', method1(theta_1,phi_1,backend,shots)[0])\n",
    "print('Expectation value method 2:', method2(theta_1,phi_1,backend,shots)[0])"
   ]
  },
  {
   "cell_type": "code",
   "execution_count": null,
   "metadata": {},
   "outputs": [
    {
     "name": "stdout",
     "output_type": "stream",
     "text": [
      "Expectation value method 1: 0.38309478759765625\n",
      "Expectation value method 2: 0.38159794158134697\n"
     ]
    }
   ],
   "source": [
    "#State 2\n",
    "theta_2=math.pi/8\n",
    "phi_2=math.pi/4\n",
    "print('Expectation value method 1:', method1(theta_2,phi_2,backend,shots)[0])\n",
    "print('Expectation value method 2:', method2(theta_2,phi_2,backend,shots)[0])"
   ]
  },
  {
   "attachments": {},
   "cell_type": "markdown",
   "metadata": {},
   "source": [
    "# Analysis"
   ]
  },
  {
   "cell_type": "code",
   "execution_count": 109,
   "metadata": {},
   "outputs": [
    {
     "name": "stderr",
     "output_type": "stream",
     "text": [
      "configrc.store_credentials:WARNING:2023-02-10 12:16:56,586: Credentials already present. Set overwrite=True to overwrite.\n",
      "ibmqfactory.load_account:WARNING:2023-02-10 12:16:57,031: Credentials are already in use. The existing account in the session will be replaced.\n"
     ]
    },
    {
     "name": "stdout",
     "output_type": "stream",
     "text": [
      "ibmq_lima\n"
     ]
    }
   ],
   "source": [
    "from qiskit import IBMQ\n",
    "from qiskit.providers.ibmq import least_busy\n",
    "mykey = 'e76673036f265f16c74e63b1294862beba460b9236a51232407569a90e6f9e2bcfcf0832b01468796bb433f9e4f4f89fe4c872fd87b9fe9a900abfc8f6f50925'\n",
    "IBMQ.save_account(mykey)\n",
    "IBMQ.load_account()\n",
    "provider = IBMQ.get_provider(hub='ibm-q')\n",
    "provider.backends()\n",
    "\n",
    "small_devices = provider.backends(filters=lambda x: x.configuration().n_qubits == 5\n",
    "                                   and not x.configuration().simulator)\n",
    "backend=least_busy(small_devices)\n",
    "\n",
    "print(backend)"
   ]
  },
  {
   "cell_type": "code",
   "execution_count": 110,
   "metadata": {},
   "outputs": [],
   "source": [
    "#Generating data\n",
    "method_1_state_1 = []\n",
    "method_2_state_1 = []\n",
    "method_1_state_2 = []\n",
    "method_2_state_2 = []\n",
    "\n",
    "runtime_method_1_state_1 = []\n",
    "runtime_method_2_state_1 = []\n",
    "runtime_method_1_state_2 = []\n",
    "runtime_method_2_state_2 = []"
   ]
  },
  {
   "cell_type": "code",
   "execution_count": 111,
   "metadata": {},
   "outputs": [],
   "source": [
    "import pandas as pd\n",
    "from tqdm import tqdm\n",
    "\n",
    "n_simulations = 20\n",
    "shots = 10 #log scale\n",
    "\n",
    "for n in tqdm(range(n_simulations)):\n",
    "    #Expectation value\n",
    "    start = time.time()\n",
    "    method_1_state_1.append(method1(theta_1,phi_1,backend,shots)[0])\n",
    "    #Runtime\n",
    "    end = time.time()\n",
    "    runtime_method_1_state_1.append(end - start)\n",
    "\n",
    "m1_dict = {'Method 1 State 1':method_1_state_1, 'Method 1 State 1 runtime':runtime_method_1_state_1}\n",
    "pd.DataFrame(m1_dict).to_csv('Ibm_lima_state_1.csv')\n",
    "\n"
   ]
  },
  {
   "cell_type": "code",
   "execution_count": 105,
   "metadata": {},
   "outputs": [],
   "source": [
    "for n in tqdm(range(n_simulations)):\n",
    "    #Expectation value\n",
    "    start = time.time()\n",
    "    method_2_state_1.append(method2(theta_1,phi_1,backend,shots)[0])\n",
    "    #Runtime\n",
    "    end = time.time()\n",
    "    runtime_method_2_state_1.append(end - start)\n",
    "\n",
    "m1_dict.update({'Method 2 State 1':method_2_state_1, 'Method 2 State 1 runtime':runtime_method_2_state_1})\n",
    "pd.DataFrame(m1_dict).to_csv('Ibm_lima_state_1.csv')"
   ]
  },
  {
   "cell_type": "code",
   "execution_count": null,
   "metadata": {},
   "outputs": [],
   "source": [
    "for n in tqdm(range(n_simulations)):\n",
    "    start = time.time()\n",
    "    method_1_state_2.append(method1(theta_2,phi_2,backend,shots,False)[0])\n",
    "    end = time.time()\n",
    "    runtime_method_1_state_2.append(end - start)\n",
    "\n",
    "m2_dict = {'Method 1 State 2':method_2_state_1,'Method 1 State 2 runtime':runtime_method_1_state_2}\n",
    "pd.DataFrame(m1_dict).to_csv('Ibm_lima_method_2.csv')\n"
   ]
  },
  {
   "cell_type": "code",
   "execution_count": null,
   "metadata": {},
   "outputs": [],
   "source": [
    "for n in tqdm(range(n_simulations)):\n",
    "    start = time.time()\n",
    "    method_2_state_2.append(method2(theta_2,phi_2,backend,shots,False)[0])\n",
    "    end= time.time()\n",
    "    runtime_method_2_state_2.append(end - start)\n",
    "\n",
    "m2_dict.update({'Method 2 State 2':method_2_state_2,'Method 2 State 2 runtime':runtime_method_2_state_2})\n",
    "pd.DataFrame(m2_dict).to_csv('Ibm_lima_method_2.csv')"
   ]
  },
  {
   "attachments": {},
   "cell_type": "markdown",
   "metadata": {},
   "source": [
    "# Result Analysis"
   ]
  },
  {
   "cell_type": "code",
   "execution_count": null,
   "metadata": {},
   "outputs": [
    {
     "data": {
      "text/plain": [
       "<matplotlib.legend.Legend at 0x1faad3dab30>"
      ]
     },
     "execution_count": 92,
     "metadata": {},
     "output_type": "execute_result"
    },
    {
     "data": {
      "image/png": "[encoded data removed]",
      "text/plain": [
       "<Figure size 800x500 with 1 Axes>"
      ]
     },
     "metadata": {},
     "output_type": "display_data"
    }
   ],
   "source": [
    "state_1_data_lima = pd.read_csv('Ibm_lima_state_1.csv')\n",
    "n_simulations = 100\n",
    "shots = 2**12\n",
    "M1_1 = state_1_data_lima['Method 1']\n",
    "M2_1 = state_1_data_lima['Method 2']\n",
    "fig1, ax1 = plt.subplots(figsize=(8,5))\n",
    "bins=np.histogram(np.hstack((M1_1,M2_1)), bins=40)[1]\n",
    "ax1.hist(M1_1, bins, color='b', alpha=0.5, label=f'method 1')\n",
    "ax1.hist(M2_1, bins, color='r', alpha=0.5, label=f'method 2')\n",
    "ax1.axvline(0.0, linestyle='-', c='g', label='True value')\n",
    "ax1.axvline(np.mean(M1_1), linestyle='-', c='b', label='Method 1 mean')\n",
    "ax1.axvline(np.mean(M2_1), linestyle='-', c='r', label='Method 2 mean')\n",
    "ax1.set_xlabel(r'Estimate of $\\langle M\\rangle$')\n",
    "ax1.set_ylabel('Frequency')\n",
    "ax1.set_title(f'Results of {n_simulations} simulations of {shots} shots for '+r'$\\theta=\\pi/4, \\phi=0$' +'on ibmq_lima')\n",
    "ax1.legend()"
   ]
  },
  {
   "cell_type": "code",
   "execution_count": null,
   "metadata": {},
   "outputs": [],
   "source": []
  }
 ],
 "metadata": {
  "kernelspec": {
   "display_name": "Python 3",
   "language": "python",
   "name": "python3"
  },
  "language_info": {
   "codemirror_mode": {
    "name": "ipython",
    "version": 3
   },
   "file_extension": ".py",
   "mimetype": "text/x-python",
   "name": "python",
   "nbconvert_exporter": "python",
   "pygments_lexer": "ipython3",
   "version": "3.10.0"
  },
  "vscode": {
   "interpreter": {
    "hash": "d165de98b18a6a94d45de9140d86a563bdc2085c28b17ab461548dad74884ef1"
   }
  }
 },
 "nbformat": 4,
 "nbformat_minor": 4
}
