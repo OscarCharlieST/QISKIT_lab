{
 "cells": [
  {
   "cell_type": "markdown",
   "metadata": {},
   "source": [
    "# IBM Quantum Experience Lab - Lab script"
   ]
  },
  {
   "cell_type": "markdown",
   "metadata": {},
   "source": [
    "Please use this notebook as a template for the work that you will submit for assessment for this lab exercise.\n",
    "\n",
    "Student Names: ENTER YOUR NAMES HERE"
   ]
  },
  {
   "cell_type": "markdown",
   "metadata": {},
   "source": [
    "## Warm up exercise"
   ]
  },
  {
   "cell_type": "code",
   "execution_count": 6,
   "metadata": {},
   "outputs": [],
   "source": [
    "from qiskit import QuantumCircuit, ClassicalRegister, QuantumRegister\n",
    "from qiskit import execute, Aer\n",
    "from qiskit.tools.visualization import circuit_drawer\n",
    "from qiskit import Aer\n",
    "import matplotlib.pyplot as plt"
   ]
  },
  {
   "cell_type": "code",
   "execution_count": 2,
   "metadata": {},
   "outputs": [
    {
     "data": {
      "image/png": "[encoded data removed]",
      "text/plain": [
       "<Figure size 640x480 with 1 Axes>"
      ]
     },
     "metadata": {},
     "output_type": "display_data"
    }
   ],
   "source": [
    "qr = QuantumRegister(1)\n",
    "cr = ClassicalRegister(1)\n",
    "circuit = QuantumCircuit(qr, cr)\n",
    "\n",
    "circuit.h(qr[0])\n",
    "circuit.measure(qr[0],cr[0])\n",
    "\n",
    "\n",
    "backend = Aer.get_backend('qasm_simulator')\n",
    "\n",
    "def get_expectation(result,circuit):\n",
    "    return (result.get_counts(circuit)['0']-result.get_counts(circuit)['1'])/ (result.get_counts(circuit)['0'] + result.get_counts(circuit)['1'])\n",
    "                                                                    \n",
    "expectation_values = []\n",
    "for n in range(1,26):\n",
    "    job = execute(circuit, backend,shots=2**n)\n",
    "    result = job.result()\n",
    "    expectation_values.append(get_expectation(result,circuit))\n",
    "\n",
    "plt.plot([n for n in range(1,26)], expectation_values, '.')\n",
    "plt.xlabel('Number of shots (log scale)')\n",
    "plt.ylabel('Expectation value of Z')\n",
    "plt.show()"
   ]
  },
  {
   "attachments": {},
   "cell_type": "markdown",
   "metadata": {},
   "source": [
    "# Main Lab Exercise"
   ]
  },
  {
   "cell_type": "markdown",
   "metadata": {},
   "source": []
  },
  {
   "cell_type": "code",
   "execution_count": 71,
   "metadata": {},
   "outputs": [],
   "source": [
    "import math\n",
    "import numpy as np\n",
    "import time\n",
    "#Functions\n",
    "def get_expectation_sim(circuit,backend,logshots):\n",
    "    job = execute(circuit, backend,shots=2**logshots)\n",
    "    result = job.result().get_counts(circuit)\n",
    "    keys = list(result.keys())\n",
    "    if set(keys) == set(['0','1']):\n",
    "        return (result['0']-result['1'])/(result['0']+result['1']) , job.status()\n",
    "    elif keys == ['0']:\n",
    "        return 1.0, job.status()\n",
    "    elif keys == ['1']:\n",
    "        return -1.0, job.status()\n",
    "\n",
    "def get_expectation(circuit,backend,logshots):\n",
    "    job = execute(circuit, backend,shots=2**logshots)\n",
    "    result = job.result().get_counts(circuit)\n",
    "    runtime = result.time_taken\n",
    "    keys = list(result.keys())\n",
    "    if set(keys) == set(['0','1']):\n",
    "        return (result['0']-result['1'])/(result['0']+result['1']) , runtime\n",
    "    elif keys == ['0']:\n",
    "        return 1.0, runtime\n",
    "    elif keys == ['1']:\n",
    "        return -1.0, runtime\n",
    "\n",
    "def get_expectation_distribution(circuit, logshot, backend, draw=False):\n",
    "    expectation_values = []\n",
    "    for n in range(1,logshot):\n",
    "        expectation_values.append(get_expectation(circuit,backend,n))\n",
    "    if draw == True:\n",
    "        plt.plot([n for n in range(1,logshot)], expectation_values, '.')\n",
    "        plt.xlabel('Number of shots (log scale)')\n",
    "        plt.ylabel('Expectation value of Z')\n",
    "        plt.show()\n",
    "        plt.close()\n",
    "    return expectation_values\n",
    "\n",
    "def initial_state(phi):\n",
    "    state = math.cos(phi)*np.array([1,0]) + 1j*math.sin(phi)* np.array([0,1])\n",
    "    return state\n"
   ]
  },
  {
   "cell_type": "code",
   "execution_count": 8,
   "metadata": {},
   "outputs": [
    {
     "data": {
      "text/html": [
       "<pre style=\"word-wrap: normal;white-space: pre;background: #fff0;line-height: 1.1;font-family: &quot;Courier New&quot;,Courier,monospace\">      ┌──────────────────────────────┐┌─────────┐┌───┐┌─┐\n",
       "  q0: ┤ Initialize(0.70711,0.70711j) ├┤ P(-π/8) ├┤ H ├┤M├\n",
       "      └──────────────────────────────┘└─────────┘└───┘└╥┘\n",
       "c0: 1/═════════════════════════════════════════════════╩═\n",
       "                                                       0 </pre>"
      ],
      "text/plain": [
       "      ┌──────────────────────────────┐┌─────────┐┌───┐┌─┐\n",
       "  q0: ┤ Initialize(0.70711,0.70711j) ├┤ P(-π/8) ├┤ H ├┤M├\n",
       "      └──────────────────────────────┘└─────────┘└───┘└╥┘\n",
       "c0: 1/═════════════════════════════════════════════════╩═\n",
       "                                                       0 "
      ]
     },
     "execution_count": 8,
     "metadata": {},
     "output_type": "execute_result"
    }
   ],
   "source": [
    "# Method 1 - apply HU^dagger(theta) and measure Z\n",
    "\n",
    "#Build the cirquit\n",
    "def method_1_circuit(theta, phi):\n",
    "    qr = QuantumRegister(1)\n",
    "    cr = ClassicalRegister(1)\n",
    "    circuit = QuantumCircuit(qr, cr)\n",
    "    circuit.initialize(initial_state(phi), qr[0])\n",
    "    circuit.p(-theta, qr[0])\n",
    "    circuit.h(qr[0])\n",
    "    circuit.measure(qr[0],cr[0])\n",
    "    return circuit\n",
    "\n",
    "circuit_drawer(method_1_circuit(theta=math.pi/8, phi=math.pi/4))"
   ]
  },
  {
   "cell_type": "code",
   "execution_count": 9,
   "metadata": {},
   "outputs": [
    {
     "data": {
      "text/html": [
       "<pre style=\"word-wrap: normal;white-space: pre;background: #fff0;line-height: 1.1;font-family: &quot;Courier New&quot;,Courier,monospace\">      ┌─────────────────┐┌───┐┌─┐\n",
       "  q1: ┤ Initialize(1,0) ├┤ H ├┤M├\n",
       "      └─────────────────┘└───┘└╥┘\n",
       "c1: 1/═════════════════════════╩═\n",
       "                               0 </pre>"
      ],
      "text/plain": [
       "      ┌─────────────────┐┌───┐┌─┐\n",
       "  q1: ┤ Initialize(1,0) ├┤ H ├┤M├\n",
       "      └─────────────────┘└───┘└╥┘\n",
       "c1: 1/═════════════════════════╩═\n",
       "                               0 "
      ]
     },
     "execution_count": 9,
     "metadata": {},
     "output_type": "execute_result"
    }
   ],
   "source": [
    "# Method 2\n",
    "# M(theta) = cos(theta)X + sin(theta)Y\n",
    "# alpha = cos(theta) ; beta = sin(theta)\n",
    "\n",
    "#Build the cirquits\n",
    "\n",
    "#Measure X expectation value circuit\n",
    "def method_2_X_circuit(theta,phi):\n",
    "    qr = QuantumRegister(1)\n",
    "    cr = ClassicalRegister(1)\n",
    "    circuit = QuantumCircuit(qr, cr)\n",
    "    circuit.initialize(initial_state(phi), qr[0])\n",
    "    circuit.h(qr[0])\n",
    "    circuit.measure(qr[0],cr[0])\n",
    "    circuit_drawer(circuit)\n",
    "    return circuit\n",
    "\n",
    "\n",
    "circuit_drawer(method_2_X_circuit(theta=math.pi/4, phi=0))"
   ]
  },
  {
   "cell_type": "code",
   "execution_count": 10,
   "metadata": {},
   "outputs": [
    {
     "data": {
      "text/html": [
       "<pre style=\"word-wrap: normal;white-space: pre;background: #fff0;line-height: 1.1;font-family: &quot;Courier New&quot;,Courier,monospace\">      ┌─────────────────┐┌─────────┐┌───┐┌─┐\n",
       "  q2: ┤ Initialize(1,0) ├┤ P(-π/2) ├┤ H ├┤M├\n",
       "      └─────────────────┘└─────────┘└───┘└╥┘\n",
       "c2: 1/════════════════════════════════════╩═\n",
       "                                          0 </pre>"
      ],
      "text/plain": [
       "      ┌─────────────────┐┌─────────┐┌───┐┌─┐\n",
       "  q2: ┤ Initialize(1,0) ├┤ P(-π/2) ├┤ H ├┤M├\n",
       "      └─────────────────┘└─────────┘└───┘└╥┘\n",
       "c2: 1/════════════════════════════════════╩═\n",
       "                                          0 "
      ]
     },
     "execution_count": 10,
     "metadata": {},
     "output_type": "execute_result"
    }
   ],
   "source": [
    "#Measure Y expectation value circuit\n",
    "def method_2_Y_circuit(theta,phi):\n",
    "    qr = QuantumRegister(1)\n",
    "    cr = ClassicalRegister(1)\n",
    "    circuit = QuantumCircuit(qr, cr)\n",
    "    circuit.initialize(initial_state(phi), qr[0])\n",
    "    circuit.p(-math.pi/2,qr[0])\n",
    "    circuit.h(qr[0])\n",
    "    circuit.measure(qr[0],cr[0])\n",
    "    circuit_drawer(circuit)\n",
    "    return circuit\n",
    "\n",
    "circuit_drawer(method_2_Y_circuit(theta=math.pi/4, phi=0))"
   ]
  },
  {
   "cell_type": "code",
   "execution_count": 75,
   "metadata": {},
   "outputs": [],
   "source": [
    "def method1(theta,phi,backend,shots):\n",
    "    circuit = method_1_circuit(theta, phi)\n",
    "    return get_expectation(circuit,backend,shots)\n",
    "\n",
    "def method2(theta,phi,backend,shots):\n",
    "    '''\n",
    "    Output: expectation value, job status of circuit X, job status of circuit Y\n",
    "    '''\n",
    "    circuit_X = method_2_X_circuit(theta, phi)\n",
    "    expectation_X = get_expectation(circuit_X,backend,shots)[0]\n",
    "    circuit_Y = method_2_Y_circuit(theta,phi)\n",
    "    expectation_Y = get_expectation(circuit_Y,backend,shots)[0]\n",
    "    expectation_M = math.cos(theta)*expectation_X + math.sin(theta)*expectation_Y\n",
    "    return expectation_M, get_expectation(circuit_X,backend,shots)[1], get_expectation(circuit_Y,backend,shots)[1]"
   ]
  },
  {
   "cell_type": "code",
   "execution_count": 24,
   "metadata": {},
   "outputs": [],
   "source": [
    "#Establish shots and backend simulator\n",
    "shots = 20 #log scale\n",
    "backend = Aer.get_backend('qasm_simulator')"
   ]
  },
  {
   "cell_type": "code",
   "execution_count": 25,
   "metadata": {},
   "outputs": [
    {
     "name": "stdout",
     "output_type": "stream",
     "text": [
      "Expectation value method 1: 0.0008182525634765625\n",
      "JobStatus.DONE\n",
      "Expectation value method 2: -0.0006905339660024879\n"
     ]
    }
   ],
   "source": [
    "#State 1\n",
    "theta_1=math.pi/4\n",
    "phi_1=0\n",
    "print('Expectation value method 1:', method1(theta_1,phi_1,backend,shots,False)[0])\n",
    "print('Expectation value method 2:', method2(theta_1,phi_1,backend,shots,False)[0])"
   ]
  },
  {
   "cell_type": "code",
   "execution_count": null,
   "metadata": {},
   "outputs": [
    {
     "name": "stdout",
     "output_type": "stream",
     "text": [
      "Expectation value method 1: 0.38309478759765625\n",
      "Expectation value method 2: 0.38159794158134697\n"
     ]
    }
   ],
   "source": [
    "#State 2\n",
    "theta_2=math.pi/8\n",
    "phi_2=math.pi/4\n",
    "print('Expectation value method 1:', method1(theta_2,phi_2,backend,shots,False)[0])\n",
    "print('Expectation value method 2:', method2(theta_2,phi_2,backend,shots,False)[0])"
   ]
  },
  {
   "attachments": {},
   "cell_type": "markdown",
   "metadata": {},
   "source": [
    "# Analysis"
   ]
  },
  {
   "cell_type": "code",
   "execution_count": 79,
   "metadata": {},
   "outputs": [
    {
     "name": "stderr",
     "output_type": "stream",
     "text": [
      "configrc.store_credentials:WARNING:2023-02-09 13:05:51,860: Credentials already present. Set overwrite=True to overwrite.\n",
      "ibmqfactory.load_account:WARNING:2023-02-09 13:05:52,303: Credentials are already in use. The existing account in the session will be replaced.\n"
     ]
    },
    {
     "name": "stdout",
     "output_type": "stream",
     "text": [
      "ibmq_manila\n"
     ]
    }
   ],
   "source": [
    "from qiskit import IBMQ\n",
    "from qiskit.providers.ibmq import least_busy\n",
    "mykey = 'd0db27e06149ec7280499124f8a6a11cf87d70d35c06147d3f70a8f9c0ae5a136f33ae887c14b0b44c10c1dc64e3249cc89aa7104fc3e01c940a3e1f1dead7fc'\n",
    "IBMQ.save_account(mykey)\n",
    "IBMQ.load_account()\n",
    "provider = IBMQ.get_provider(hub='ibm-q')\n",
    "provider.backends()\n",
    "\n",
    "small_devices = provider.backends(filters=lambda x: x.configuration().n_qubits == 5\n",
    "                                   and not x.configuration().simulator)\n",
    "backend=least_busy(small_devices)\n",
    "\n",
    "print(backend)"
   ]
  },
  {
   "cell_type": "code",
   "execution_count": 80,
   "metadata": {},
   "outputs": [],
   "source": [
    "#Generating data\n",
    "method_1_state_1 = []\n",
    "method_2_state_1 = []\n",
    "method_1_state_2 = []\n",
    "method_2_state_2 = []\n",
    "\n",
    "runtime_method_1_state_1 = []\n",
    "runtime_method_2_state_1 = []\n",
    "runtime_method_1_state_2 = []\n",
    "runtime_method_2_state_2 = []"
   ]
  },
  {
   "cell_type": "code",
   "execution_count": 81,
   "metadata": {},
   "outputs": [
    {
     "ename": "KeyboardInterrupt",
     "evalue": "",
     "output_type": "error",
     "traceback": [
      "\u001b[1;31m---------------------------------------------------------------------------\u001b[0m",
      "\u001b[1;31mKeyboardInterrupt\u001b[0m                         Traceback (most recent call last)",
      "Cell \u001b[1;32mIn[81], line 8\u001b[0m\n\u001b[0;32m      4\u001b[0m shots \u001b[39m=\u001b[39m \u001b[39m7\u001b[39m \u001b[39m#log scale\u001b[39;00m\n\u001b[0;32m      6\u001b[0m \u001b[39mfor\u001b[39;00m n \u001b[39min\u001b[39;00m \u001b[39mrange\u001b[39m(n_simulations):\n\u001b[0;32m      7\u001b[0m     \u001b[39m#start_method_1_state_1 = time.time()\u001b[39;00m\n\u001b[1;32m----> 8\u001b[0m     method_1_state_1\u001b[39m.\u001b[39mappend(method1(theta_1,phi_1,backend,shots)[\u001b[39m0\u001b[39m])\n\u001b[0;32m      9\u001b[0m     runtime_method_1_state_1\u001b[39m.\u001b[39mappend(method1(theta_1,phi_1,backend,shots)[\u001b[39m1\u001b[39m])\n\u001b[0;32m     10\u001b[0m     \u001b[39m#end_method_1_state_1 = time.time()\u001b[39;00m\n\u001b[0;32m     11\u001b[0m     \u001b[39m#runtime_method_1_state_1 += end_method_1_state_1 - start_method_1_state_1\u001b[39;00m\n",
      "Cell \u001b[1;32mIn[75], line 3\u001b[0m, in \u001b[0;36mmethod1\u001b[1;34m(theta, phi, backend, shots)\u001b[0m\n\u001b[0;32m      1\u001b[0m \u001b[39mdef\u001b[39;00m \u001b[39mmethod1\u001b[39m(theta,phi,backend,shots):\n\u001b[0;32m      2\u001b[0m     circuit \u001b[39m=\u001b[39m method_1_circuit(theta, phi)\n\u001b[1;32m----> 3\u001b[0m     \u001b[39mreturn\u001b[39;00m get_expectation(circuit,backend,shots)\n",
      "Cell \u001b[1;32mIn[71], line 18\u001b[0m, in \u001b[0;36mget_expectation\u001b[1;34m(circuit, backend, logshots)\u001b[0m\n\u001b[0;32m     16\u001b[0m \u001b[39mdef\u001b[39;00m \u001b[39mget_expectation\u001b[39m(circuit,backend,logshots):\n\u001b[0;32m     17\u001b[0m     job \u001b[39m=\u001b[39m execute(circuit, backend,shots\u001b[39m=\u001b[39m\u001b[39m2\u001b[39m\u001b[39m*\u001b[39m\u001b[39m*\u001b[39mlogshots)\n\u001b[1;32m---> 18\u001b[0m     result \u001b[39m=\u001b[39m job\u001b[39m.\u001b[39;49mresult()\u001b[39m.\u001b[39mget_counts(circuit)\n\u001b[0;32m     19\u001b[0m     runtime \u001b[39m=\u001b[39m result\u001b[39m.\u001b[39mtime_taken\n\u001b[0;32m     20\u001b[0m     keys \u001b[39m=\u001b[39m \u001b[39mlist\u001b[39m(result\u001b[39m.\u001b[39mkeys())\n",
      "File \u001b[1;32mc:\\Users\\sheil\\AppData\\Local\\Programs\\Python\\Python310\\lib\\site-packages\\qiskit\\providers\\ibmq\\job\\ibmqjob.py:276\u001b[0m, in \u001b[0;36mIBMQJob.result\u001b[1;34m(self, timeout, wait, partial, refresh)\u001b[0m\n\u001b[0;32m    226\u001b[0m \u001b[39m\u001b[39m\u001b[39m\"\"\"Return the result of the job.\u001b[39;00m\n\u001b[0;32m    227\u001b[0m \n\u001b[0;32m    228\u001b[0m \u001b[39mNote:\u001b[39;00m\n\u001b[1;32m   (...)\u001b[0m\n\u001b[0;32m    273\u001b[0m \u001b[39m        with the server.\u001b[39;00m\n\u001b[0;32m    274\u001b[0m \u001b[39m\"\"\"\u001b[39;00m\n\u001b[0;32m    275\u001b[0m \u001b[39m# pylint: disable=arguments-differ\u001b[39;00m\n\u001b[1;32m--> 276\u001b[0m \u001b[39mif\u001b[39;00m \u001b[39mnot\u001b[39;00m \u001b[39mself\u001b[39;49m\u001b[39m.\u001b[39;49m_wait_for_completion(timeout\u001b[39m=\u001b[39;49mtimeout, wait\u001b[39m=\u001b[39;49mwait,\n\u001b[0;32m    277\u001b[0m                                  required_status\u001b[39m=\u001b[39;49m(JobStatus\u001b[39m.\u001b[39;49mDONE,)):\n\u001b[0;32m    278\u001b[0m     \u001b[39mif\u001b[39;00m \u001b[39mself\u001b[39m\u001b[39m.\u001b[39m_status \u001b[39mis\u001b[39;00m JobStatus\u001b[39m.\u001b[39mCANCELLED:\n\u001b[0;32m    279\u001b[0m         \u001b[39mraise\u001b[39;00m IBMQJobInvalidStateError(\u001b[39m'\u001b[39m\u001b[39mUnable to retrieve result for job \u001b[39m\u001b[39m{}\u001b[39;00m\u001b[39m. \u001b[39m\u001b[39m'\u001b[39m\n\u001b[0;32m    280\u001b[0m                                        \u001b[39m'\u001b[39m\u001b[39mJob was cancelled.\u001b[39m\u001b[39m'\u001b[39m\u001b[39m.\u001b[39mformat(\u001b[39mself\u001b[39m\u001b[39m.\u001b[39mjob_id()))\n",
      "File \u001b[1;32mc:\\Users\\sheil\\AppData\\Local\\Programs\\Python\\Python310\\lib\\site-packages\\qiskit\\providers\\ibmq\\job\\ibmqjob.py:911\u001b[0m, in \u001b[0;36mIBMQJob._wait_for_completion\u001b[1;34m(self, timeout, wait, required_status, status_queue)\u001b[0m\n\u001b[0;32m    908\u001b[0m     \u001b[39mreturn\u001b[39;00m \u001b[39mself\u001b[39m\u001b[39m.\u001b[39m_status \u001b[39min\u001b[39;00m required_status\n\u001b[0;32m    910\u001b[0m \u001b[39mtry\u001b[39;00m:\n\u001b[1;32m--> 911\u001b[0m     status_response \u001b[39m=\u001b[39m \u001b[39mself\u001b[39;49m\u001b[39m.\u001b[39;49m_api_client\u001b[39m.\u001b[39;49mjob_final_status(\n\u001b[0;32m    912\u001b[0m         \u001b[39mself\u001b[39;49m\u001b[39m.\u001b[39;49mjob_id(), timeout\u001b[39m=\u001b[39;49mtimeout, wait\u001b[39m=\u001b[39;49mwait, status_queue\u001b[39m=\u001b[39;49mstatus_queue)\n\u001b[0;32m    913\u001b[0m \u001b[39mexcept\u001b[39;00m UserTimeoutExceededError:\n\u001b[0;32m    914\u001b[0m     \u001b[39mraise\u001b[39;00m IBMQJobTimeoutError(\n\u001b[0;32m    915\u001b[0m         \u001b[39m'\u001b[39m\u001b[39mTimeout while waiting for job \u001b[39m\u001b[39m{}\u001b[39;00m\u001b[39m.\u001b[39m\u001b[39m'\u001b[39m\u001b[39m.\u001b[39mformat(\u001b[39mself\u001b[39m\u001b[39m.\u001b[39m_job_id)) \u001b[39mfrom\u001b[39;00m \u001b[39mNone\u001b[39m\n",
      "File \u001b[1;32mc:\\Users\\sheil\\AppData\\Local\\Programs\\Python\\Python310\\lib\\site-packages\\qiskit\\providers\\ibmq\\api\\clients\\account.py:386\u001b[0m, in \u001b[0;36mAccountClient.job_final_status\u001b[1;34m(self, job_id, timeout, wait, status_queue)\u001b[0m\n\u001b[0;32m    384\u001b[0m start_time \u001b[39m=\u001b[39m time\u001b[39m.\u001b[39mtime()\n\u001b[0;32m    385\u001b[0m \u001b[39mtry\u001b[39;00m:\n\u001b[1;32m--> 386\u001b[0m     status_response \u001b[39m=\u001b[39m \u001b[39mself\u001b[39;49m\u001b[39m.\u001b[39;49m_job_final_status_websocket(\n\u001b[0;32m    387\u001b[0m         job_id\u001b[39m=\u001b[39;49mjob_id, timeout\u001b[39m=\u001b[39;49mtimeout, status_queue\u001b[39m=\u001b[39;49mstatus_queue)\n\u001b[0;32m    388\u001b[0m \u001b[39mexcept\u001b[39;00m WebsocketTimeoutError \u001b[39mas\u001b[39;00m ex:\n\u001b[0;32m    389\u001b[0m     logger\u001b[39m.\u001b[39minfo(\u001b[39m'\u001b[39m\u001b[39mTimeout checking job status using websocket, \u001b[39m\u001b[39m'\u001b[39m\n\u001b[0;32m    390\u001b[0m                 \u001b[39m'\u001b[39m\u001b[39mretrying using HTTP: \u001b[39m\u001b[39m%s\u001b[39;00m\u001b[39m'\u001b[39m, ex)\n",
      "File \u001b[1;32mc:\\Users\\sheil\\AppData\\Local\\Programs\\Python\\Python310\\lib\\site-packages\\qiskit\\providers\\ibmq\\api\\clients\\account.py:439\u001b[0m, in \u001b[0;36mAccountClient._job_final_status_websocket\u001b[1;34m(self, job_id, timeout, status_queue)\u001b[0m\n\u001b[0;32m    436\u001b[0m     timer\u001b[39m.\u001b[39mstart()\n\u001b[0;32m    438\u001b[0m \u001b[39mtry\u001b[39;00m:\n\u001b[1;32m--> 439\u001b[0m     \u001b[39mreturn\u001b[39;00m ws_client\u001b[39m.\u001b[39;49mget_job_status()\n\u001b[0;32m    440\u001b[0m \u001b[39mfinally\u001b[39;00m:\n\u001b[0;32m    441\u001b[0m     \u001b[39mif\u001b[39;00m timer:\n",
      "File \u001b[1;32mc:\\Users\\sheil\\AppData\\Local\\Programs\\Python\\Python310\\lib\\site-packages\\qiskit\\providers\\ibmq\\api\\clients\\websocket.py:194\u001b[0m, in \u001b[0;36mWebsocketClient.get_job_status\u001b[1;34m(self, retries, backoff_factor)\u001b[0m\n\u001b[0;32m    159\u001b[0m \u001b[39m\u001b[39m\u001b[39m\"\"\"Return the status of a job.\u001b[39;00m\n\u001b[0;32m    160\u001b[0m \n\u001b[0;32m    161\u001b[0m \u001b[39mRead status messages from the server, which are issued at regular\u001b[39;00m\n\u001b[1;32m   (...)\u001b[0m\n\u001b[0;32m    191\u001b[0m \u001b[39m    WebsocketTimeoutError: If the timeout has been reached.\u001b[39;00m\n\u001b[0;32m    192\u001b[0m \u001b[39m\"\"\"\u001b[39;00m\n\u001b[0;32m    193\u001b[0m url \u001b[39m=\u001b[39m \u001b[39m'\u001b[39m\u001b[39m{}\u001b[39;00m\u001b[39m/jobs/\u001b[39m\u001b[39m{}\u001b[39;00m\u001b[39m/status/v/1\u001b[39m\u001b[39m'\u001b[39m\u001b[39m.\u001b[39mformat(\u001b[39mself\u001b[39m\u001b[39m.\u001b[39m_websocket_url, \u001b[39mself\u001b[39m\u001b[39m.\u001b[39m_job_id)\n\u001b[1;32m--> 194\u001b[0m \u001b[39mreturn\u001b[39;00m \u001b[39mself\u001b[39;49m\u001b[39m.\u001b[39;49mstream(url\u001b[39m=\u001b[39;49murl, retries\u001b[39m=\u001b[39;49mretries, backoff_factor\u001b[39m=\u001b[39;49mbackoff_factor)\n",
      "File \u001b[1;32mc:\\Users\\sheil\\AppData\\Local\\Programs\\Python\\Python310\\lib\\site-packages\\qiskit\\providers\\ibmq\\api\\clients\\base.py:178\u001b[0m, in \u001b[0;36mBaseWebsocketClient.stream\u001b[1;34m(self, url, retries, backoff_factor)\u001b[0m\n\u001b[0;32m    175\u001b[0m logger\u001b[39m.\u001b[39mdebug(\u001b[39m'\u001b[39m\u001b[39mStarting new websocket connection: \u001b[39m\u001b[39m%s\u001b[39;00m\u001b[39m using proxy \u001b[39m\u001b[39m%s\u001b[39;00m\u001b[39m'\u001b[39m,\n\u001b[0;32m    176\u001b[0m              url, \u001b[39mself\u001b[39m\u001b[39m.\u001b[39m_proxy_params)\n\u001b[0;32m    177\u001b[0m \u001b[39mself\u001b[39m\u001b[39m.\u001b[39m_reset_state()\n\u001b[1;32m--> 178\u001b[0m \u001b[39mself\u001b[39m\u001b[39m.\u001b[39m_ws\u001b[39m.\u001b[39mrun_forever(ping_interval\u001b[39m=\u001b[39m\u001b[39m60\u001b[39m, ping_timeout\u001b[39m=\u001b[39m\u001b[39m10\u001b[39m, \u001b[39m*\u001b[39m\u001b[39m*\u001b[39m\u001b[39mself\u001b[39m\u001b[39m.\u001b[39m_proxy_params)\n\u001b[0;32m    179\u001b[0m \u001b[39mself\u001b[39m\u001b[39m.\u001b[39mconnected \u001b[39m=\u001b[39m \u001b[39mFalse\u001b[39;00m\n\u001b[0;32m    181\u001b[0m logger\u001b[39m.\u001b[39mdebug(\u001b[39m\"\u001b[39m\u001b[39mWebsocket run_forever finished.\u001b[39m\u001b[39m\"\u001b[39m)\n",
      "File \u001b[1;32mc:\\Users\\sheil\\AppData\\Local\\Programs\\Python\\Python310\\lib\\site-packages\\websocket\\_app.py:483\u001b[0m, in \u001b[0;36mWebSocketApp.run_forever\u001b[1;34m(self, sockopt, sslopt, ping_interval, ping_timeout, ping_payload, http_proxy_host, http_proxy_port, http_no_proxy, http_proxy_auth, http_proxy_timeout, skip_utf8_validation, host, origin, dispatcher, suppress_origin, proxy_type, reconnect)\u001b[0m\n\u001b[0;32m    480\u001b[0m custom_dispatcher \u001b[39m=\u001b[39m \u001b[39mbool\u001b[39m(dispatcher)\n\u001b[0;32m    481\u001b[0m dispatcher \u001b[39m=\u001b[39m \u001b[39mself\u001b[39m\u001b[39m.\u001b[39mcreate_dispatcher(ping_timeout, dispatcher, parse_url(\u001b[39mself\u001b[39m\u001b[39m.\u001b[39murl)[\u001b[39m3\u001b[39m])\n\u001b[1;32m--> 483\u001b[0m setSock()\n\u001b[0;32m    484\u001b[0m \u001b[39mif\u001b[39;00m \u001b[39mnot\u001b[39;00m custom_dispatcher \u001b[39mand\u001b[39;00m reconnect:\n\u001b[0;32m    485\u001b[0m     \u001b[39mwhile\u001b[39;00m \u001b[39mself\u001b[39m\u001b[39m.\u001b[39mkeep_running:\n",
      "File \u001b[1;32mc:\\Users\\sheil\\AppData\\Local\\Programs\\Python\\Python310\\lib\\site-packages\\websocket\\_app.py:413\u001b[0m, in \u001b[0;36mWebSocketApp.run_forever.<locals>.setSock\u001b[1;34m(reconnecting)\u001b[0m\n\u001b[0;32m    411\u001b[0m     dispatcher\u001b[39m.\u001b[39mread(\u001b[39mself\u001b[39m\u001b[39m.\u001b[39msock\u001b[39m.\u001b[39msock, read, check)\n\u001b[0;32m    412\u001b[0m \u001b[39mexcept\u001b[39;00m (WebSocketConnectionClosedException, \u001b[39mConnectionRefusedError\u001b[39;00m, \u001b[39mKeyboardInterrupt\u001b[39;00m, \u001b[39mSystemExit\u001b[39;00m, \u001b[39mException\u001b[39;00m) \u001b[39mas\u001b[39;00m e:\n\u001b[1;32m--> 413\u001b[0m     handleDisconnect(e, reconnecting)\n",
      "File \u001b[1;32mc:\\Users\\sheil\\AppData\\Local\\Programs\\Python\\Python310\\lib\\site-packages\\websocket\\_app.py:411\u001b[0m, in \u001b[0;36mWebSocketApp.run_forever.<locals>.setSock\u001b[1;34m(reconnecting)\u001b[0m\n\u001b[0;32m    407\u001b[0m         \u001b[39mself\u001b[39m\u001b[39m.\u001b[39m_start_ping_thread()\n\u001b[0;32m    409\u001b[0m     \u001b[39mself\u001b[39m\u001b[39m.\u001b[39m_callback(\u001b[39mself\u001b[39m\u001b[39m.\u001b[39mon_open)\n\u001b[1;32m--> 411\u001b[0m     dispatcher\u001b[39m.\u001b[39;49mread(\u001b[39mself\u001b[39;49m\u001b[39m.\u001b[39;49msock\u001b[39m.\u001b[39;49msock, read, check)\n\u001b[0;32m    412\u001b[0m \u001b[39mexcept\u001b[39;00m (WebSocketConnectionClosedException, \u001b[39mConnectionRefusedError\u001b[39;00m, \u001b[39mKeyboardInterrupt\u001b[39;00m, \u001b[39mSystemExit\u001b[39;00m, \u001b[39mException\u001b[39;00m) \u001b[39mas\u001b[39;00m e:\n\u001b[0;32m    413\u001b[0m     handleDisconnect(e, reconnecting)\n",
      "File \u001b[1;32mc:\\Users\\sheil\\AppData\\Local\\Programs\\Python\\Python310\\lib\\site-packages\\websocket\\_app.py:87\u001b[0m, in \u001b[0;36mSSLDispatcher.read\u001b[1;34m(self, sock, read_callback, check_callback)\u001b[0m\n\u001b[0;32m     85\u001b[0m \u001b[39mdef\u001b[39;00m \u001b[39mread\u001b[39m(\u001b[39mself\u001b[39m, sock, read_callback, check_callback):\n\u001b[0;32m     86\u001b[0m     \u001b[39mwhile\u001b[39;00m \u001b[39mself\u001b[39m\u001b[39m.\u001b[39mapp\u001b[39m.\u001b[39mkeep_running:\n\u001b[1;32m---> 87\u001b[0m         r \u001b[39m=\u001b[39m \u001b[39mself\u001b[39;49m\u001b[39m.\u001b[39;49mselect()\n\u001b[0;32m     88\u001b[0m         \u001b[39mif\u001b[39;00m r:\n\u001b[0;32m     89\u001b[0m             \u001b[39mif\u001b[39;00m \u001b[39mnot\u001b[39;00m read_callback():\n",
      "File \u001b[1;32mc:\\Users\\sheil\\AppData\\Local\\Programs\\Python\\Python310\\lib\\site-packages\\websocket\\_app.py:101\u001b[0m, in \u001b[0;36mSSLDispatcher.select\u001b[1;34m(self)\u001b[0m\n\u001b[0;32m     98\u001b[0m sel \u001b[39m=\u001b[39m selectors\u001b[39m.\u001b[39mDefaultSelector()\n\u001b[0;32m     99\u001b[0m sel\u001b[39m.\u001b[39mregister(sock, selectors\u001b[39m.\u001b[39mEVENT_READ)\n\u001b[1;32m--> 101\u001b[0m r \u001b[39m=\u001b[39m sel\u001b[39m.\u001b[39;49mselect(\u001b[39mself\u001b[39;49m\u001b[39m.\u001b[39;49mping_timeout)\n\u001b[0;32m    102\u001b[0m sel\u001b[39m.\u001b[39mclose()\n\u001b[0;32m    104\u001b[0m \u001b[39mif\u001b[39;00m \u001b[39mlen\u001b[39m(r) \u001b[39m>\u001b[39m \u001b[39m0\u001b[39m:\n",
      "File \u001b[1;32mc:\\Users\\sheil\\AppData\\Local\\Programs\\Python\\Python310\\lib\\selectors.py:324\u001b[0m, in \u001b[0;36mSelectSelector.select\u001b[1;34m(self, timeout)\u001b[0m\n\u001b[0;32m    322\u001b[0m ready \u001b[39m=\u001b[39m []\n\u001b[0;32m    323\u001b[0m \u001b[39mtry\u001b[39;00m:\n\u001b[1;32m--> 324\u001b[0m     r, w, _ \u001b[39m=\u001b[39m \u001b[39mself\u001b[39;49m\u001b[39m.\u001b[39;49m_select(\u001b[39mself\u001b[39;49m\u001b[39m.\u001b[39;49m_readers, \u001b[39mself\u001b[39;49m\u001b[39m.\u001b[39;49m_writers, [], timeout)\n\u001b[0;32m    325\u001b[0m \u001b[39mexcept\u001b[39;00m \u001b[39mInterruptedError\u001b[39;00m:\n\u001b[0;32m    326\u001b[0m     \u001b[39mreturn\u001b[39;00m ready\n",
      "File \u001b[1;32mc:\\Users\\sheil\\AppData\\Local\\Programs\\Python\\Python310\\lib\\selectors.py:315\u001b[0m, in \u001b[0;36mSelectSelector._select\u001b[1;34m(self, r, w, _, timeout)\u001b[0m\n\u001b[0;32m    314\u001b[0m \u001b[39mdef\u001b[39;00m \u001b[39m_select\u001b[39m(\u001b[39mself\u001b[39m, r, w, _, timeout\u001b[39m=\u001b[39m\u001b[39mNone\u001b[39;00m):\n\u001b[1;32m--> 315\u001b[0m     r, w, x \u001b[39m=\u001b[39m select\u001b[39m.\u001b[39;49mselect(r, w, w, timeout)\n\u001b[0;32m    316\u001b[0m     \u001b[39mreturn\u001b[39;00m r, w \u001b[39m+\u001b[39m x, []\n",
      "\u001b[1;31mKeyboardInterrupt\u001b[0m: "
     ]
    }
   ],
   "source": [
    "import pandas as pd\n",
    "\n",
    "n_simulations = 1\n",
    "shots = 7 #log scale\n",
    "\n",
    "for n in range(n_simulations):\n",
    "    #start_method_1_state_1 = time.time()\n",
    "    method_1_state_1.append(method1(theta_1,phi_1,backend,shots)[0])\n",
    "    runtime_method_1_state_1.append(method1(theta_1,phi_1,backend,shots)[1])\n",
    "    #end_method_1_state_1 = time.time()\n",
    "    #runtime_method_1_state_1 += end_method_1_state_1 - start_method_1_state_1\n",
    "\n",
    "m1_dict = {'Method 1 State 1':method_1_state_1}\n",
    "pd.DataFrame(m1_dict).to_csv('Ibm_lima_method_1.csv')\n",
    "\n",
    "for n in range(n_simulations):\n",
    "    #start_method_2_state_1 = time.time()\n",
    "    method_2_state_1.append(method2(theta_1,phi_1,backend,shots)[0])\n",
    "    runtime_method_2_state_1.append(method2(theta_1,phi_1,backend,shots)[1])\n",
    "    #end_method_2_state_1 = time.time()\n",
    "    #runtime_method_2_state_1 += end_method_2_state_1 - start_method_2_state_1\n",
    "\n",
    "m1_dict.update({'Method 2 State 1':method_1_state_2})\n",
    "pd.DataFrame(m1_dict).to_csv('Ibm_lima_method_1.csv')\n"
   ]
  },
  {
   "cell_type": "code",
   "execution_count": null,
   "metadata": {},
   "outputs": [],
   "source": [
    "print(runtime_method_1_state_1)"
   ]
  },
  {
   "cell_type": "code",
   "execution_count": null,
   "metadata": {},
   "outputs": [],
   "source": [
    "for n in range(n_simulations):\n",
    "    start_method_1_state_2 = time.time()\n",
    "    method_1_state_2.append(method1(theta_2,phi_2,backend,shots,False)[0])\n",
    "    end_method_1_state_2 = time.time()\n",
    "    runtime_method_1_state_2 += end_method_1_state_2 - start_method_1_state_2\n",
    "\n",
    "m2_dict = {'Method 1 State 2':method_2_state_1}\n",
    "pd.DataFrame(m1_dict).to_csv('Ibm_lima_method_2.csv')\n",
    "\n",
    "for n in range(n_simulations):\n",
    "    start_method_2_state_2 = time.time()\n",
    "    method_2_state_2.append(method2(theta_2,phi_2,backend,shots,False)[0])\n",
    "    end_method_2_state_2 = time.time()\n",
    "    runtime_method_2_state_2 += end_method_2_state_2 - start_method_2_state_2\n",
    "\n",
    "m2_dict.update({'Method 2 State 2':method_2_state_2})\n",
    "pd.DataFrame(m2_dict).to_csv('Ibm_lima_method_2.csv')"
   ]
  },
  {
   "cell_type": "code",
   "execution_count": 68,
   "metadata": {},
   "outputs": [],
   "source": [
    "s1_dict = {'Method 1' : method_1_state_1, 'Method 2' : method_2_state_1}\n",
    "pd.DataFrame(s1_dict).to_csv('Ibm_lima_state_1.csv')"
   ]
  },
  {
   "cell_type": "code",
   "execution_count": 83,
   "metadata": {},
   "outputs": [],
   "source": [
    "state_1_data_lima = pd.read_csv('Ibm_lima_state_1.csv')"
   ]
  },
  {
   "cell_type": "code",
   "execution_count": 89,
   "metadata": {},
   "outputs": [
    {
     "data": {
      "text/plain": [
       "<matplotlib.legend.Legend at 0x1faacd22140>"
      ]
     },
     "execution_count": 89,
     "metadata": {},
     "output_type": "execute_result"
    },
    {
     "data": {
      "image/png": "[encoded data removed]",
      "text/plain": [
       "<Figure size 800x500 with 1 Axes>"
      ]
     },
     "metadata": {},
     "output_type": "display_data"
    }
   ],
   "source": [
    "n_simulations = 100\n",
    "shots = 2**12\n",
    "M1_1 = state_1_data_lima['Method 1']\n",
    "M2_1 = state_1_data_lima['Method 2']\n",
    "fig1, ax1 = plt.subplots(figsize=(8,5))\n",
    "bins=np.histogram(np.hstack((M1_1,M2_1)), bins=40)[1]\n",
    "ax1.hist(M1_1, bins, color='b', alpha=0.5, label=f'method 1')\n",
    "ax1.hist(M2_1, bins, color='r', alpha=0.5, label=f'method 2')\n",
    "ax1.axvline(0.0, linestyle='-', c='g', label='True value')\n",
    "ax1.set_xlabel(r'Estimate of $\\langle M\\rangle$')\n",
    "ax1.set_ylabel('Frequency')\n",
    "ax1.set_title(f'Results of {n_simulations} simulations of {shots} shots for '+r'$\\theta=\\pi/4, \\phi=0$' +'on ibmq_lima')\n",
    "ax1.legend()"
   ]
  },
  {
   "cell_type": "code",
   "execution_count": null,
   "metadata": {},
   "outputs": [],
   "source": []
  }
 ],
 "metadata": {
  "kernelspec": {
   "display_name": "Python 3",
   "language": "python",
   "name": "python3"
  },
  "language_info": {
   "codemirror_mode": {
    "name": "ipython",
    "version": 3
   },
   "file_extension": ".py",
   "mimetype": "text/x-python",
   "name": "python",
   "nbconvert_exporter": "python",
   "pygments_lexer": "ipython3",
   "version": "3.10.0"
  },
  "vscode": {
   "interpreter": {
    "hash": "d165de98b18a6a94d45de9140d86a563bdc2085c28b17ab461548dad74884ef1"
   }
  }
 },
 "nbformat": 4,
 "nbformat_minor": 4
}
