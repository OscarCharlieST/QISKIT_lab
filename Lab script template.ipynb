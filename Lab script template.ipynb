{
 "cells": [
  {
   "cell_type": "markdown",
   "metadata": {},
   "source": [
    "# IBM Quantum Experience Lab - Lab script"
   ]
  },
  {
   "cell_type": "markdown",
   "metadata": {},
   "source": [
    "Please use this notebook as a template for the work that you will submit for assessment for this lab exercise.\n",
    "\n",
    "Student Names: ENTER YOUR NAMES HERE"
   ]
  },
  {
   "cell_type": "markdown",
   "metadata": {},
   "source": [
    "## Warm up exercise"
   ]
  },
  {
   "cell_type": "code",
   "execution_count": null,
   "metadata": {},
   "outputs": [],
   "source": [
    "from qiskit import QuantumCircuit, ClassicalRegister, QuantumRegister\n",
    "from qiskit import execute, Aer\n",
    "from qiskit.tools.visualization import circuit_drawer\n",
    "from qiskit import Aer\n",
    "import matplotlib.pyplot as plt"
   ]
  },
  {
   "cell_type": "code",
   "execution_count": 15,
   "metadata": {},
   "outputs": [
    {
     "data": {
      "image/png": "[encoded data removed]",
      "text/plain": [
       "<Figure size 640x480 with 1 Axes>"
      ]
     },
     "metadata": {},
     "output_type": "display_data"
    }
   ],
   "source": [
    "qr = QuantumRegister(1)\n",
    "cr = ClassicalRegister(1)\n",
    "circuit = QuantumCircuit(qr, cr)\n",
    "\n",
    "circuit.h(qr[0])\n",
    "circuit.measure(qr[0],cr[0])\n",
    "\n",
    "\n",
    "backend = Aer.get_backend('qasm_simulator')\n",
    "\n",
    "def get_expectation(result,circuit):\n",
    "    return (result.get_counts(circuit)['0']-result.get_counts(circuit)['1'])/ (result.get_counts(circuit)['0'] + result.get_counts(circuit)['1'])\n",
    "                                                                    \n",
    "expectation_values = []\n",
    "for n in range(1,26):\n",
    "    job = execute(circuit, backend,shots=2**n)\n",
    "    result = job.result()\n",
    "    expectation_values.append(get_expectation(result,circuit))\n",
    "\n",
    "plt.plot([n for n in range(1,26)], expectation_values, '.')\n",
    "plt.xlabel('Number of shots (log scale)')\n",
    "plt.ylabel('Expectation value of Z')\n",
    "plt.show()"
   ]
  },
  {
   "attachments": {},
   "cell_type": "markdown",
   "metadata": {},
   "source": [
    "# Main Lab Exercise"
   ]
  },
  {
   "cell_type": "markdown",
   "metadata": {},
   "source": []
  },
  {
   "cell_type": "code",
   "execution_count": 74,
   "metadata": {},
   "outputs": [],
   "source": [
    "import math\n",
    "import numpy as np\n",
    "#Functions\n",
    "def get_expectation(circuit,backend,logshots):\n",
    "    job = execute(circuit, backend,shots=2**logshots)\n",
    "    result = job.result()\n",
    "    return (result.get_counts(circuit)['0']-result.get_counts(circuit)['1'])/ (result.get_counts(circuit)['0'] + result.get_counts(circuit)['1'])\n",
    "\n",
    "def get_expectation_distribution(circuit, logshot, backend, draw=False):\n",
    "    expectation_values = []\n",
    "    for n in range(1,logshot):\n",
    "        expectation_values.append(get_expectation(circuit,backend,n))\n",
    "    if draw == True:\n",
    "        plt.plot([n for n in range(1,logshot)], expectation_values, '.')\n",
    "        plt.xlabel('Number of shots (log scale)')\n",
    "        plt.ylabel('Expectation value of Z')\n",
    "        plt.show()\n",
    "        plt.close()\n",
    "    return expectation_values\n",
    "\n",
    "def initial_state(phi):\n",
    "    state = math.cos(phi)*np.array([1,0]) + 1j*math.sin(phi)* np.array([0,1])\n",
    "    return state\n"
   ]
  },
  {
   "cell_type": "code",
   "execution_count": 75,
   "metadata": {},
   "outputs": [
    {
     "data": {
      "text/html": [
       "<pre style=\"word-wrap: normal;white-space: pre;background: #fff0;line-height: 1.1;font-family: &quot;Courier New&quot;,Courier,monospace\">       ┌──────────────────────────────┐┌─────────┐┌───┐┌─┐\n",
       "q1069: ┤ Initialize(0.70711,0.70711j) ├┤ P(-π/8) ├┤ H ├┤M├\n",
       "       └──────────────────────────────┘└─────────┘└───┘└╥┘\n",
       "c52: 1/═════════════════════════════════════════════════╩═\n",
       "                                                        0 </pre>"
      ],
      "text/plain": [
       "       ┌──────────────────────────────┐┌─────────┐┌───┐┌─┐\n",
       "q1069: ┤ Initialize(0.70711,0.70711j) ├┤ P(-π/8) ├┤ H ├┤M├\n",
       "       └──────────────────────────────┘└─────────┘└───┘└╥┘\n",
       "c52: 1/═════════════════════════════════════════════════╩═\n",
       "                                                        0 "
      ]
     },
     "execution_count": 75,
     "metadata": {},
     "output_type": "execute_result"
    }
   ],
   "source": [
    "# Method 1 - apply HU^dagger(theta) and measure Z\n",
    "\n",
    "#Build the cirquit\n",
    "def method_1_circuit(theta, phi):\n",
    "    qr = QuantumRegister(1)\n",
    "    cr = ClassicalRegister(1)\n",
    "    circuit = QuantumCircuit(qr, cr)\n",
    "    circuit.initialize(initial_state(phi), qr[0])\n",
    "    circuit.p(-theta, qr[0])\n",
    "    circuit.h(qr[0])\n",
    "    circuit.measure(qr[0],cr[0])\n",
    "    return circuit\n",
    "\n",
    "circuit_drawer(method_1_circuit(theta=math.pi/8, phi=math.pi/4))"
   ]
  },
  {
   "cell_type": "code",
   "execution_count": 76,
   "metadata": {},
   "outputs": [
    {
     "data": {
      "text/plain": [
       "[0.0,\n",
       " 0.0,\n",
       " 0.75,\n",
       " 0.25,\n",
       " 0.375,\n",
       " 0.21875,\n",
       " 0.34375,\n",
       " 0.484375,\n",
       " 0.4296875,\n",
       " 0.41015625,\n",
       " 0.3740234375,\n",
       " 0.400390625,\n",
       " 0.39453125,\n",
       " 0.377685546875,\n",
       " 0.3865966796875,\n",
       " 0.382598876953125,\n",
       " 0.3814697265625,\n",
       " 0.38199615478515625,\n",
       " 0.3824462890625]"
      ]
     },
     "execution_count": 76,
     "metadata": {},
     "output_type": "execute_result"
    }
   ],
   "source": [
    "backend = Aer.get_backend('qasm_simulator')\n",
    "circuit = method_1_circuit(theta=math.pi/8, phi=math.pi/4)\n",
    "get_expectation_distribution(circuit,20,backend)"
   ]
  },
  {
   "cell_type": "code",
   "execution_count": 45,
   "metadata": {},
   "outputs": [
    {
     "data": {
      "text/html": [
       "<pre style=\"word-wrap: normal;white-space: pre;background: #fff0;line-height: 1.1;font-family: &quot;Courier New&quot;,Courier,monospace\">       ┌─────────────────┐┌───┐┌─┐\n",
       " q246: ┤ Initialize(1,0) ├┤ H ├┤M├\n",
       "       └─────────────────┘└───┘└╥┘\n",
       "c25: 1/═════════════════════════╩═\n",
       "                                0 </pre>"
      ],
      "text/plain": [
       "       ┌─────────────────┐┌───┐┌─┐\n",
       " q246: ┤ Initialize(1,0) ├┤ H ├┤M├\n",
       "       └─────────────────┘└───┘└╥┘\n",
       "c25: 1/═════════════════════════╩═\n",
       "                                0 "
      ]
     },
     "execution_count": 45,
     "metadata": {},
     "output_type": "execute_result"
    }
   ],
   "source": [
    "# Method 2\n",
    "# M(theta) = cos(theta)X + sin(theta)Y\n",
    "# alpha = cos(theta) ; beta = sin(theta)\n",
    "\n",
    "#Build the cirquits\n",
    "\n",
    "#Measure X expectation value circuit\n",
    "def method_2_X_circuit(theta,phi):\n",
    "    qr = QuantumRegister(1)\n",
    "    cr = ClassicalRegister(1)\n",
    "    circuit = QuantumCircuit(qr, cr)\n",
    "    circuit.initialize(initial_state(phi), qr[0])\n",
    "    circuit.h(qr[0])\n",
    "    circuit.measure(qr[0],cr[0])\n",
    "    circuit_drawer(circuit)\n",
    "    return circuit\n",
    "\n",
    "\n",
    "circuit_drawer(method_2_X_circuit(theta=math.pi/4, phi=0))"
   ]
  },
  {
   "cell_type": "code",
   "execution_count": 47,
   "metadata": {},
   "outputs": [
    {
     "data": {
      "text/html": [
       "<pre style=\"word-wrap: normal;white-space: pre;background: #fff0;line-height: 1.1;font-family: &quot;Courier New&quot;,Courier,monospace\">       ┌─────────────────┐┌───┐┌────────┐┌─┐\n",
       " q247: ┤ Initialize(1,0) ├┤ H ├┤ P(π/2) ├┤M├\n",
       "       └─────────────────┘└───┘└────────┘└╥┘\n",
       "c26: 1/═══════════════════════════════════╩═\n",
       "                                          0 </pre>"
      ],
      "text/plain": [
       "       ┌─────────────────┐┌───┐┌────────┐┌─┐\n",
       " q247: ┤ Initialize(1,0) ├┤ H ├┤ P(π/2) ├┤M├\n",
       "       └─────────────────┘└───┘└────────┘└╥┘\n",
       "c26: 1/═══════════════════════════════════╩═\n",
       "                                          0 "
      ]
     },
     "execution_count": 47,
     "metadata": {},
     "output_type": "execute_result"
    }
   ],
   "source": [
    "#Measure Y expectation value circuit\n",
    "def method_2_Y_circuit(theta,phi):\n",
    "    qr = QuantumRegister(1)\n",
    "    cr = ClassicalRegister(1)\n",
    "    circuit = QuantumCircuit(qr, cr)\n",
    "    circuit.initialize(initial_state(phi), qr[0])\n",
    "    circuit.h(qr[0])\n",
    "    circuit.p(math.pi/2,qr[0])\n",
    "    circuit.measure(qr[0],cr[0])\n",
    "    circuit_drawer(circuit)\n",
    "    return circuit\n",
    "\n",
    "circuit_drawer(method_2_Y_circuit(theta=math.pi/4, phi=0))"
   ]
  },
  {
   "cell_type": "code",
   "execution_count": 73,
   "metadata": {},
   "outputs": [
    {
     "name": "stdout",
     "output_type": "stream",
     "text": [
      "[0.0, -0.1913417161825449, 0.09567085809127245, -0.529589278773918, -0.38848684305122927, 0.14435617695488856, 0.009482096827329256, 0.1336356999105194, -0.03299309369612239, 0.02291380900334381, 0.012268452315669032, 9.067829197092906e-05, -3.3198821014839355e-05, -0.005753872104212515, 0.0058424876858955725, 0.0038748202731974657, -0.0032985505993015744, 0.0003832675884953091, 0.0006515266299500056]\n"
     ]
    }
   ],
   "source": [
    "theta=math.pi/8\n",
    "phi=math.pi/4\n",
    "shot_range = 20 #log scale\n",
    "backend = Aer.get_backend('qasm_simulator')\n",
    "circuit_X = method_2_X_circuit(theta, phi)\n",
    "expectation_X = get_expectation_distribution(circuit_X,shot_range,backend)\n",
    "circuit_Y = method_2_Y_circuit(theta,phi)\n",
    "expectation_Y = get_expectation_distribution(circuit_Y,shot_range,backend)\n",
    "\n",
    "expectation_M = []\n",
    "for i in range(len(expectation_X)):\n",
    "    expectation_M.append(math.cos(theta)*expectation_X[i] + math.sin(theta)*expectation_Y[i])\n",
    "\n",
    "print(expectation_M)"
   ]
  },
  {
   "cell_type": "code",
   "execution_count": null,
   "metadata": {},
   "outputs": [],
   "source": []
  }
 ],
 "metadata": {
  "kernelspec": {
   "display_name": "Python 3",
   "language": "python",
   "name": "python3"
  },
  "language_info": {
   "codemirror_mode": {
    "name": "ipython",
    "version": 3
   },
   "file_extension": ".py",
   "mimetype": "text/x-python",
   "name": "python",
   "nbconvert_exporter": "python",
   "pygments_lexer": "ipython3",
   "version": "3.10.0"
  },
  "vscode": {
   "interpreter": {
    "hash": "d165de98b18a6a94d45de9140d86a563bdc2085c28b17ab461548dad74884ef1"
   }
  }
 },
 "nbformat": 4,
 "nbformat_minor": 4
}
