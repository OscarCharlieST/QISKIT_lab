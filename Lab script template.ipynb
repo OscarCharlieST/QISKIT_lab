{
 "cells": [
  {
   "cell_type": "markdown",
   "metadata": {},
   "source": [
    "# IBM Quantum Experience Lab - Lab script"
   ]
  },
  {
   "cell_type": "markdown",
   "metadata": {},
   "source": [
    "Student Names: Parth Bhandari\n",
    "               Sheila Perez \n",
    "               Charlie Solomons-Tuke"
   ]
  },
  {
   "cell_type": "markdown",
   "metadata": {},
   "source": [
    "# Main Lab Exercise"
   ]
  },
  {
   "cell_type": "markdown",
   "metadata": {},
   "source": [
    "$$\\renewcommand{\\ket}[1]{\\left|{#1}\\right\\rangle}$$\n",
    "$$\\renewcommand{\\bra}[1]{\\left\\langle{#1}\\right|}$$\n",
    "\n",
    "Let us first figure out what we are expecting from our circuit.\n",
    "\n",
    "The expectation value for any pair $(\\theta, \\phi)$ can be calculated explicitly;\n",
    "\n",
    "\\begin{equation}\n",
    "    \\bra{\\phi}M(\\theta)\\ket{\\phi}=\\begin{pmatrix} \\cos(\\phi) & -\\mathrm{i}\\sin(\\phi) \\end{pmatrix}\n",
    "    \\begin{pmatrix} 0 & e^{-\\mathrm{i}\\theta} \\\\ e^{\\mathrm{i}\\theta} & 0 \\end{pmatrix}\n",
    "    \\begin{pmatrix} \\cos(\\phi) \\\\ \\mathrm{i}\\sin(\\phi) \\end{pmatrix}\n",
    "    = \\mathrm{i}\\cos(\\phi)\\sin(\\phi)(e^{-\\mathrm{i}\\theta} - e^{\\mathrm{i}\\theta}) = \\sin(2\\phi)\\sin(\\theta)\n",
    "\\end{equation}\n"
   ]
  },
  {
   "cell_type": "markdown",
   "metadata": {},
   "source": [
    "First, lets set up our imports, as well as some usefull functions. "
   ]
  },
  {
   "cell_type": "code",
   "execution_count": 3,
   "metadata": {},
   "outputs": [],
   "source": [
    "from qiskit import QuantumCircuit, ClassicalRegister, QuantumRegister\n",
    "from qiskit import execute, Aer\n",
    "from qiskit.tools.visualization import circuit_drawer\n",
    "from qiskit import Aer\n",
    "import matplotlib.pyplot as plt\n",
    "import math\n",
    "import numpy as np\n",
    "import time\n",
    "import pandas as pd\n",
    "from tqdm import tqdm\n",
    "\n",
    "#Function that returns the expectation value of a measurement\n",
    "def get_expectation(circuit,backend,logshots):\n",
    "    job = execute(circuit, backend,shots=2**logshots)\n",
    "    counts = job.result().get_counts(circuit)\n",
    "    runtime = job.result().time_taken\n",
    "    keys = list(counts.keys())\n",
    "    if set(keys) == set(['0','1']):\n",
    "        return (counts['0']-counts['1'])/(counts['0']+counts['1']) , runtime\n",
    "    elif keys == ['0']:\n",
    "        return 1.0, runtime\n",
    "    elif keys == ['1']:\n",
    "        return -1.0, runtime\n",
    "\n",
    "#Given an angle phi determines the state in our defined set of states\n",
    "def initial_state(phi):\n",
    "    state = math.cos(phi)*np.array([1,0]) + 1j*math.sin(phi)* np.array([0,1])\n",
    "    return state\n",
    "\n",
    "#Given data as a csv file and shots, returns histogram comparing the results with the true value of the expectation\n",
    "#value and the mean of each method\n",
    "def exp_value_histogram(data, state, shots,backend, mean=0.0, save = False):\n",
    "    #data = pd.read_csv(f'{backend}_state_1.csv')\n",
    "    M1 = data['Method 1']\n",
    "    M2 = data['Method 2']\n",
    "    n_simulations = len(M1)\n",
    "    fig1, ax1 = plt.subplots(figsize=(8,5))\n",
    "    bins=np.histogram(np.hstack((M1,M2)), bins=40)[1]\n",
    "    ax1.hist(M1, bins, color='b', alpha=0.5, label=f'method 1')\n",
    "    ax1.hist(M2, bins, color='r', alpha=0.5, label=f'method 2')\n",
    "    ax1.axvline(mean, linestyle='-', c='g', label='True value')\n",
    "    ax1.axvline(np.mean(M1), linestyle='-', c='b', label='Method 1 mean')\n",
    "    ax1.axvline(np.mean(M2), linestyle='-', c='r', label='Method 2 mean')\n",
    "    ax1.set_xlabel(r'Estimate of $\\langle M\\rangle$')\n",
    "    ax1.set_ylabel('Frequency')\n",
    "    ax1.set_title(f'Results of {n_simulations} simulations of {2**shots} shots for {state} on {backend}')\n",
    "    ax1.legend()\n",
    "    if save == True:\n",
    "        fig1.savefig(f'figures/{state}_{backend}.png')\n",
    "\n",
    "def time_benchmarking(M1,M2,t1,t2,shots,exp_value):\n",
    "    fig, axs = plt.subplots(1,2,figsize=(16,5))\n",
    "    axs[0].plot(shots,t1, label='method 1')\n",
    "    axs[0].plot(shots,t2, label='method 2')\n",
    "    axs[0].set_xlabel('Number of shots')\n",
    "    axs[0].set_ylabel('Time taken')\n",
    "    axs[0].legend()\n",
    "\n",
    "    axs[1].scatter(shots,M1, label='method 1')\n",
    "    axs[1].scatter(shots,M2, label='method 2')\n",
    "    axs[1].axhline(exp_value, label='expected value', c=(.7,.7,.7))\n",
    "    axs[1].set_xlabel('Number of shots (log_2 scale)')\n",
    "    axs[1].set_ylabel('Expectation value of M')\n",
    "    axs[1].set_ylim([min(M1+M2)-0.05,max(M1+M2)+0.05])\n",
    "    axs[1].legend()\n"
   ]
  },
  {
   "cell_type": "markdown",
   "metadata": {},
   "source": [
    "Note that, when measuring, if a bit value doesn't occur in any shot it wont appear in the result dictionary. This can lead to key errors which we dodge by looking first at the keys before calculating expectations."
   ]
  },
  {
   "cell_type": "markdown",
   "metadata": {},
   "source": [
    "### Method 1\n",
    "\n",
    "Note that $M = U(\\theta)XU(\\theta)^\\dagger = U(\\theta)HZHU(\\theta)^\\dagger$, so to measure M we just need to apply $HU(\\theta)^\\dagger$, and then measure $Z$. For $\\theta = \\pi/4$, $HU(\\pi/4)^\\dagger = HT^\\dagger$"
   ]
  },
  {
   "cell_type": "code",
   "execution_count": 6,
   "metadata": {},
   "outputs": [
    {
     "data": {
      "text/html": [
       "<pre style=\"word-wrap: normal;white-space: pre;background: #fff0;line-height: 1.1;font-family: &quot;Courier New&quot;,Courier,monospace\">      ┌──────────────────────────────┐┌─────────┐┌───┐┌─┐\n",
       "  q1: ┤ Initialize(0.70711,0.70711j) ├┤ P(-π/8) ├┤ H ├┤M├\n",
       "      └──────────────────────────────┘└─────────┘└───┘└╥┘\n",
       "c1: 1/═════════════════════════════════════════════════╩═\n",
       "                                                       0 </pre>"
      ],
      "text/plain": [
       "      ┌──────────────────────────────┐┌─────────┐┌───┐┌─┐\n",
       "  q1: ┤ Initialize(0.70711,0.70711j) ├┤ P(-π/8) ├┤ H ├┤M├\n",
       "      └──────────────────────────────┘└─────────┘└───┘└╥┘\n",
       "c1: 1/═════════════════════════════════════════════════╩═\n",
       "                                                       0 "
      ]
     },
     "execution_count": 6,
     "metadata": {},
     "output_type": "execute_result"
    }
   ],
   "source": [
    "# Method 1 - apply HU^dagger(theta) and measure Z\n",
    "\n",
    "#Build the cirquit\n",
    "def method_1_circuit(theta, phi):\n",
    "    qr = QuantumRegister(1)\n",
    "    cr = ClassicalRegister(1)\n",
    "    circuit = QuantumCircuit(qr, cr)\n",
    "    circuit.initialize(initial_state(phi), qr[0])\n",
    "    circuit.p(-theta, qr[0])\n",
    "    circuit.h(qr[0])\n",
    "    circuit.measure(qr[0],cr[0])\n",
    "    return circuit\n",
    "\n",
    "circuit_drawer(method_1_circuit(theta=math.pi/8, phi=math.pi/4))"
   ]
  },
  {
   "cell_type": "code",
   "execution_count": 7,
   "metadata": {},
   "outputs": [
    {
     "data": {
      "text/html": [
       "<pre style=\"word-wrap: normal;white-space: pre;background: #fff0;line-height: 1.1;font-family: &quot;Courier New&quot;,Courier,monospace\">      ┌─────────────────┐┌───┐┌─┐\n",
       "  q2: ┤ Initialize(1,0) ├┤ H ├┤M├\n",
       "      └─────────────────┘└───┘└╥┘\n",
       "c2: 1/═════════════════════════╩═\n",
       "                               0 </pre>"
      ],
      "text/plain": [
       "      ┌─────────────────┐┌───┐┌─┐\n",
       "  q2: ┤ Initialize(1,0) ├┤ H ├┤M├\n",
       "      └─────────────────┘└───┘└╥┘\n",
       "c2: 1/═════════════════════════╩═\n",
       "                               0 "
      ]
     },
     "execution_count": 7,
     "metadata": {},
     "output_type": "execute_result"
    }
   ],
   "source": [
    "# Method 2\n",
    "# M(theta) = cos(theta)X + sin(theta)Y\n",
    "# alpha = cos(theta) ; beta = sin(theta)\n",
    "\n",
    "#Build the cirquits\n",
    "\n",
    "#Measure X expectation value circuit\n",
    "def method_2_X_circuit(theta,phi):\n",
    "    qr = QuantumRegister(1)\n",
    "    cr = ClassicalRegister(1)\n",
    "    circuit = QuantumCircuit(qr, cr)\n",
    "    circuit.initialize(initial_state(phi), qr[0])\n",
    "    circuit.h(qr[0])\n",
    "    circuit.measure(qr[0],cr[0])\n",
    "    circuit_drawer(circuit)\n",
    "    return circuit\n",
    "\n",
    "\n",
    "circuit_drawer(method_2_X_circuit(theta=math.pi/4, phi=0))"
   ]
  },
  {
   "cell_type": "code",
   "execution_count": 8,
   "metadata": {},
   "outputs": [],
   "source": [
    "def method1(theta,phi,backend,shots):\n",
    "    circuit = method_1_circuit(theta, phi)\n",
    "    return get_expectation(circuit,backend,shots)"
   ]
  },
  {
   "cell_type": "markdown",
   "metadata": {},
   "source": [
    "### Method 2\n",
    "\n",
    "We use the identity $M(\\pi/4) = \\frac{1}{\\sqrt{2}} X + Y $, then estimate $X$ and $Y$ independently.\n",
    "\n",
    "Below we define functions for measuring x and y given a circuit and a clasical bit to perform the measurement on."
   ]
  },
  {
   "cell_type": "code",
   "execution_count": 9,
   "metadata": {},
   "outputs": [
    {
     "data": {
      "text/html": [
       "<pre style=\"word-wrap: normal;white-space: pre;background: #fff0;line-height: 1.1;font-family: &quot;Courier New&quot;,Courier,monospace\">      ┌─────────────────┐┌─────────┐┌───┐┌─┐\n",
       "  q3: ┤ Initialize(1,0) ├┤ P(-π/2) ├┤ H ├┤M├\n",
       "      └─────────────────┘└─────────┘└───┘└╥┘\n",
       "c3: 1/════════════════════════════════════╩═\n",
       "                                          0 </pre>"
      ],
      "text/plain": [
       "      ┌─────────────────┐┌─────────┐┌───┐┌─┐\n",
       "  q3: ┤ Initialize(1,0) ├┤ P(-π/2) ├┤ H ├┤M├\n",
       "      └─────────────────┘└─────────┘└───┘└╥┘\n",
       "c3: 1/════════════════════════════════════╩═\n",
       "                                          0 "
      ]
     },
     "execution_count": 9,
     "metadata": {},
     "output_type": "execute_result"
    }
   ],
   "source": [
    "#Measure Y expectation value circuit\n",
    "def method_2_Y_circuit(theta,phi):\n",
    "    qr = QuantumRegister(1)\n",
    "    cr = ClassicalRegister(1)\n",
    "    circuit = QuantumCircuit(qr, cr)\n",
    "    circuit.initialize(initial_state(phi), qr[0])\n",
    "    circuit.p(-math.pi/2,qr[0])\n",
    "    circuit.h(qr[0])\n",
    "    circuit.measure(qr[0],cr[0])\n",
    "    circuit_drawer(circuit)\n",
    "    return circuit\n",
    "\n",
    "circuit_drawer(method_2_Y_circuit(theta=math.pi/4, phi=0))"
   ]
  },
  {
   "cell_type": "code",
   "execution_count": 10,
   "metadata": {},
   "outputs": [],
   "source": [
    "def method2(theta,phi,backend,shots):\n",
    "    '''\n",
    "    Output: expectation value, job status of circuit X, job status of circuit Y\n",
    "    '''\n",
    "    circuit_X = method_2_X_circuit(theta, phi)\n",
    "    expectation_X, runtime_X = get_expectation(circuit_X,backend,shots)\n",
    "    circuit_Y = method_2_Y_circuit(theta,phi)\n",
    "    expectation_Y, runtime_Y = get_expectation(circuit_Y,backend,shots)\n",
    "    expectation_M = math.cos(theta)*expectation_X + math.sin(theta)*expectation_Y\n",
    "    return expectation_M, runtime_X + runtime_Y"
   ]
  },
  {
   "cell_type": "markdown",
   "metadata": {},
   "source": [
    "# Analysis with IBM simulator\n",
    "\n",
    "We first retrieve the data on the IBM simulator"
   ]
  },
  {
   "cell_type": "code",
   "execution_count": 11,
   "metadata": {},
   "outputs": [],
   "source": [
    "#Establish number of simulations, shots and backend simulator\n",
    "n_simulations = 500\n",
    "shots = 10 #log scale\n",
    "backend = Aer.get_backend('qasm_simulator')"
   ]
  },
  {
   "cell_type": "code",
   "execution_count": null,
   "metadata": {},
   "outputs": [],
   "source": [
    "#State 1\n",
    "theta_1=math.pi/4\n",
    "phi_1=0\n",
    "\n",
    "method_1_state_1 = []\n",
    "runtime_method_1_state_1 = []\n",
    "for n in tqdm(range(n_simulations)):\n",
    "    exp_value,runtime = method1(theta_1,phi_1,backend,shots)\n",
    "    method_1_state_1.append(exp_value)\n",
    "    runtime_method_1_state_1.append(runtime)\n",
    "\n",
    "\n",
    "m1_dict = {'Method 1':method_1_state_1, 'Method 1 runtime':runtime_method_1_state_1}\n",
    "pd.DataFrame(m1_dict).to_csv(f'{backend}_state_1.csv')"
   ]
  },
  {
   "cell_type": "code",
   "execution_count": null,
   "metadata": {},
   "outputs": [],
   "source": [
    "method_2_state_1 = []\n",
    "runtime_method_2_state_1 = []\n",
    "for n in tqdm(range(n_simulations)):\n",
    "    exp_value,runtime = method2(theta_1,phi_1,backend,shots)\n",
    "    method_2_state_1.append(exp_value)\n",
    "    runtime_method_2_state_1.append(runtime)\n",
    "\n",
    "m1_dict.update({'Method 2':method_2_state_1, 'Method 2 runtime':runtime_method_2_state_1})\n",
    "pd.DataFrame(m1_dict).to_csv(f'{backend}_state_1.csv')"
   ]
  },
  {
   "cell_type": "code",
   "execution_count": 14,
   "metadata": {},
   "outputs": [
    {
     "name": "stderr",
     "output_type": "stream",
     "text": [
      "100%|███████████████████████████████████████████████████████████████████████████████| 500/500 [00:04<00:00, 114.54it/s]\n"
     ]
    }
   ],
   "source": [
    "#State 2\n",
    "theta_2=math.pi/8\n",
    "phi_2=math.pi/4\n",
    "\n",
    "method_1_state_2 = []\n",
    "runtime_method_1_state_2 = []\n",
    "for n in tqdm(range(n_simulations)):\n",
    "    exp_value, runtime = method1(theta_2,phi_2,backend,shots)\n",
    "    method_1_state_2.append(exp_value)\n",
    "    runtime_method_1_state_2.append(runtime)\n",
    "\n",
    "m2_dict = {'Method 1':method_1_state_2,'Method runtime':runtime_method_1_state_2}\n",
    "pd.DataFrame(m2_dict).to_csv(f'{backend}_state_2.csv')\n"
   ]
  },
  {
   "cell_type": "code",
   "execution_count": 17,
   "metadata": {},
   "outputs": [
    {
     "name": "stderr",
     "output_type": "stream",
     "text": [
      "100%|████████████████████████████████████████████████████████████████████████████████| 500/500 [00:08<00:00, 60.34it/s]\n"
     ]
    }
   ],
   "source": [
    "method_2_state_2 = []\n",
    "runtime_method_2_state_2 = []\n",
    "for n in tqdm(range(n_simulations)):\n",
    "    exp_value, runtime = method2(theta_2,phi_2,backend,shots)\n",
    "    method_2_state_2.append(exp_value)\n",
    "    runtime_method_2_state_2.append(runtime)\n",
    "\n",
    "m2_dict.update({'Method 2':method_2_state_2,'Method 2 runtime':runtime_method_2_state_2})\n",
    "pd.DataFrame(m2_dict).to_csv(f'{backend}_state_2.csv')"
   ]
  },
  {
   "cell_type": "markdown",
   "metadata": {},
   "source": [
    "## Expectation values\n",
    "\n",
    "We compare our results for the expectation values for each of the pairs"
   ]
  },
  {
   "cell_type": "markdown",
   "metadata": {},
   "source": [
    "$$\\renewcommand{\\ket}[1]{\\left|{#1}\\right\\rangle}$$\n",
    "$$\\renewcommand{\\bra}[1]{\\left\\langle{#1}\\right|}$$\n",
    "\n",
    "## Pair 1:  𝜃=𝜋/4,  𝜙=0\n",
    "\n",
    "When $\\phi=0$ the state is simply $\\ket{0}$. Since this is the default state for a fresh qubit in QISKIT, we don't need to do anything to our qubit to reach the correct state.\n",
    "\n",
    "For $\\theta = \\pi /4$, the observable in question is\n",
    "\n",
    "$$ M(\\pi/4) = \\begin{pmatrix} 0 & \\frac{1-i}{\\sqrt{2}} \\\\ \\frac{1+i}{\\sqrt{2}} & 0\n",
    "\\end{pmatrix}$$\n",
    "\n",
    "and through explicit calculation we have that $\\langle M\\rangle = 0$"
   ]
  },
  {
   "cell_type": "code",
   "execution_count": 15,
   "metadata": {},
   "outputs": [
    {
     "data": {
      "image/png": "[encoded data removed]",
      "text/plain": [
       "<Figure size 800x500 with 1 Axes>"
      ]
     },
     "metadata": {},
     "output_type": "display_data"
    }
   ],
   "source": [
    "state_1_data = pd.read_csv(f'{backend}_state_1.csv')\n",
    "state_1 = r'$\\theta=\\pi/4, \\phi=0$'\n",
    "exp_value_histogram(state_1_data, 'state_1', shots,backend, save = True)"
   ]
  },
  {
   "cell_type": "markdown",
   "metadata": {},
   "source": [
    "## Pair 2:  𝜃=𝜋/8,  𝜙=𝜋/4\n",
    "\n",
    "For $\\phi = \\pi/4$ the input state is $\\frac{1}{\\sqrt{2}}(\\ket{0} + i\\ket{1}) = \\mathrm{exp}(-i\\pi/4)HU(-\\pi/2)H\\ket{0}$. \n",
    "\n",
    "The formula for the expectation value above gives $\\langle M\\rangle = \\sin(\\pi/8) \\approx 0.3827$.\n",
    "\n",
    "To initialise the state we use the following function:"
   ]
  },
  {
   "cell_type": "code",
   "execution_count": 20,
   "metadata": {},
   "outputs": [
    {
     "data": {
      "image/png": "[encoded data removed]",
      "text/plain": [
       "<Figure size 800x500 with 1 Axes>"
      ]
     },
     "metadata": {},
     "output_type": "display_data"
    }
   ],
   "source": [
    "state_2_data = pd.read_csv(f'{backend}_state_2.csv')\n",
    "state_2 = r'$\\theta=\\pi/8, \\phi=\\pi/4$'\n",
    "exp_value_histogram(state_2_data, 'state_2', shots,backend, mean=0.3827, save = True)"
   ]
  },
  {
   "cell_type": "markdown",
   "metadata": {},
   "source": [
    "## Time benchmarking\n",
    "\n",
    "The time taken for each method to calculate expectation values is an important test of its usefulness. The full time taken for a given method is slightly ambiguous, as different user requirements might end up bottlenecking different parts of the calculation. \n",
    "\n",
    "For instance, we have assumed $M$ is of a fixed form which in turn makes the VQE decomposition very easy, and the state preparation in the basis rotation method easier also. For a more general observable $A$ we might wish to have a subroutine which performs the decomposition/finds the rotation matrix respectively, which may affect the performance. However, these tasks only need to be performed once at the start of the computation, so become irrelevant for larger numbers of iterations.\n",
    "\n",
    "Let's assess how time taken scales with iteration number:"
   ]
  },
  {
   "cell_type": "code",
   "execution_count": null,
   "metadata": {},
   "outputs": [],
   "source": [
    "shots = np.arange(1000, 100000, 1000)\n",
    "shots_log = list(map(lambda x: math.log(x,2), shots))\n",
    "\n",
    "method_1_state_1 = []\n",
    "runtime_method_1_state_1 = []\n",
    "for s in tqdm(shots_log):\n",
    "    exp_value,runtime = method1(theta_1,phi_1,backend,s)\n",
    "    method_1_state_1.append(exp_value)\n",
    "    runtime_method_1_state_1.append(runtime)\n",
    "\n",
    "\n",
    "method_2_state_1 = []\n",
    "runtime_method_2_state_1 = []\n",
    "for s in tqdm(shots_log):\n",
    "    exp_value,runtime = method2(theta_1,phi_1,backend,s)\n",
    "    method_2_state_1.append(exp_value)\n",
    "    runtime_method_2_state_1.append(runtime)\n",
    "\n",
    "time_benchmarking(method_1_state_1, method_2_state_1,runtime_method_1_state_1,runtime_method_2_state_1,shots,0)\n"
   ]
  },
  {
   "cell_type": "markdown",
   "metadata": {},
   "source": [
    "To quantify the quality of the simulation, we have to quantify the time taken to get below a vertain error threshold. To calculate the average time taken, we can leverage the fact that the the time/shot is roughly constant:\n"
   ]
  },
  {
   "cell_type": "code",
   "execution_count": null,
   "metadata": {},
   "outputs": [],
   "source": [
    "tps_1 = np.mean(np.array(runtime_method_1_state_1)/np.array(shots))\n",
    "tps_2 = np.mean(np.array(runtime_method_2_state_1)/np.array(shots))\n",
    "print('Ratio of time taken (method 2:method 1) = ', round(tps_2/tps_1, 3))"
   ]
  },
  {
   "cell_type": "markdown",
   "metadata": {},
   "source": [
    "For calulating error at a given shot value, we need a characteristic standard deviation as a function of shots. Statistics suggest the deviation should scale with the inverse square root of the number of measurements.\n"
   ]
  },
  {
   "cell_type": "code",
   "execution_count": null,
   "metadata": {},
   "outputs": [],
   "source": [
    "shots_std = np.linspace(500,2000,15)\n",
    "shots_log = list(map(lambda x: math.log(x,2), shots_std))\n",
    "n_simulations = 50\n",
    "\n",
    "std1 = []\n",
    "rt1 = []\n",
    "for s in tqdm(shots_log):\n",
    "    method_1_state_1 = []\n",
    "    runtime_method_1_state_1 = []\n",
    "    for i in range(n_simulations):\n",
    "        exp_value,runtime = method1(theta_1,phi_1,backend,s)\n",
    "        method_1_state_1.append(exp_value)\n",
    "        runtime_method_1_state_1.append(runtime)\n",
    "    std1.append(np.std(method_1_state_1))\n",
    "    rt1.append(np.mean(runtime_method_1_state_1))\n",
    "\n",
    "std2 = []\n",
    "rt2 = []\n",
    "for s in tqdm(shots_log):\n",
    "    method_2_state_1 = []\n",
    "    runtime_method_2_state_1 = []\n",
    "    for i in range(n_simulations):\n",
    "        exp_value,runtime = method2(theta_1,phi_1,backend,s)\n",
    "        method_2_state_1.append(exp_value)\n",
    "        runtime_method_2_state_1.append(runtime)\n",
    "    std2.append(np.std(method_2_state_1))\n",
    "    rt2.append(np.mean(runtime_method_2_state_1))\n"
   ]
  },
  {
   "cell_type": "code",
   "execution_count": null,
   "metadata": {},
   "outputs": [],
   "source": [
    "\n",
    "fig, axs = plt.subplots(1,2,figsize=(16,5))\n",
    "axs[0].plot(shots_std,rt1, label='method 1', c='r')\n",
    "axs[0].plot(shots_std,rt2, label='method 2', c='b')\n",
    "axs[0].set_xlabel('Number of shots')\n",
    "axs[0].set_ylabel('Mean time taken')\n",
    "axs[0].legend()\n",
    "\n",
    "rt_s = np.sqrt(1/np.array(shots_std))\n",
    "axs[1].scatter(rt_s, std1, label='method 1', c='r')\n",
    "axs[1].plot(rt_s, rt_s*np.polyfit(rt_s, std1,1)[0]+ np.polyfit(rt_s, std1,1)[1],\n",
    "            c='r', alpha=.5, label='m='+str(round(np.polyfit(rt_s, std1,1)[0],3)))\n",
    "\n",
    "axs[1].scatter(rt_s, std2, label='method 2', c='b')\n",
    "axs[1].plot(rt_s, rt_s*np.polyfit(rt_s, std2,1)[0]+ np.polyfit(rt_s, std2,1)[1],\n",
    "            c='b', alpha=.5, label='m='+str(round(np.polyfit(rt_s, std2,1)[0],3)))\n",
    "axs[1].set_xlabel(r'shots$^{-1/2}$')\n",
    "axs[1].set_ylabel(r'$\\Delta\\langle M\\rangle$')\n",
    "axs[1].legend()"
   ]
  },
  {
   "cell_type": "markdown",
   "metadata": {},
   "source": [
    "In either case, the error is roughly $\\Delta\\langle M\\rangle \\approx n_{shots}^{-1/2}$, so the only real difference between the two methods is the time taken; the VQE approach is significantly worse in that it is slower by a factor of $\\sim 1.9$"
   ]
  },
  {
   "cell_type": "markdown",
   "metadata": {},
   "source": [
    "# Analysis with IBM chip"
   ]
  },
  {
   "cell_type": "code",
   "execution_count": null,
   "metadata": {},
   "outputs": [],
   "source": [
    "from qiskit import IBMQ\n",
    "from qiskit.providers.ibmq import least_busy\n",
    "mykey = 'd0db27e06149ec7280499124f8a6a11cf87d70d35c06147d3f70a8f9c0ae5a136f33ae887c14b0b44c10c1dc64e3249cc89aa7104fc3e01c940a3e1f1dead7fc'\n",
    "IBMQ.save_account(mykey)\n",
    "IBMQ.load_account()\n",
    "provider = IBMQ.get_provider(hub='ibm-q')\n",
    "provider.backends()\n",
    "\n",
    "small_devices = provider.backends(filters=lambda x: x.configuration().n_qubits == 5\n",
    "                                   and not x.configuration().simulator)\n",
    "backend=least_busy(small_devices)\n",
    "\n",
    "print(backend)"
   ]
  },
  {
   "cell_type": "markdown",
   "metadata": {},
   "source": [
    "Data retrieval"
   ]
  },
  {
   "cell_type": "code",
   "execution_count": null,
   "metadata": {},
   "outputs": [],
   "source": [
    "n_simulations = 20\n",
    "shots = 10 #log scale\n",
    "\n",
    "#State 1\n",
    "theta_1=math.pi/4\n",
    "phi_1=0\n",
    "method_1_state_1 = []\n",
    "runtime_method_1_state_1 = []\n",
    "for n in tqdm(range(n_simulations)):\n",
    "    exp_value,runtime = method1(theta_1,phi_1,backend,shots)\n",
    "    method_1_state_1.append(exp_value)\n",
    "    runtime_method_1_state_1.append(runtime)\n",
    "\n",
    "\n",
    "m1_dict = {'Method 1':method_1_state_1, 'Method 1 runtime':runtime_method_1_state_1}\n",
    "pd.DataFrame(m1_dict).to_csv(f'{backend}_state_1.csv')\n",
    "\n"
   ]
  },
  {
   "cell_type": "code",
   "execution_count": null,
   "metadata": {},
   "outputs": [],
   "source": [
    "method_2_state_1 = []\n",
    "runtime_method_2_state_1 = []\n",
    "for n in tqdm(range(n_simulations)):\n",
    "    exp_value,runtime = method2(theta_1,phi_1,backend,shots)\n",
    "    method_2_state_1.append(exp_value)\n",
    "    runtime_method_2_state_1.append(runtime)\n",
    "\n",
    "m1_dict.update({'Method 2':method_2_state_1, 'Method 2 runtime':runtime_method_2_state_1})\n",
    "pd.DataFrame(m1_dict).to_csv(f'{backend}_state_1.csv')"
   ]
  },
  {
   "cell_type": "code",
   "execution_count": null,
   "metadata": {},
   "outputs": [],
   "source": [
    "#State 2\n",
    "theta_2=math.pi/8\n",
    "phi_2=math.pi/4\n",
    "\n",
    "method_1_state_2 = []\n",
    "runtime_method_1_state_2 = []\n",
    "for n in tqdm(range(n_simulations)):\n",
    "    exp_value, runtime = method1(theta_2,phi_2,backend,shots)\n",
    "    method_1_state_2.append(exp_value)\n",
    "    runtime_method_1_state_2.append(runtime)\n",
    "\n",
    "m2_dict = {'Method 1':method_2_state_1,'Method 1 runtime':runtime_method_1_state_2}\n",
    "pd.DataFrame(m2_dict).to_csv(f'{backend}_state_2.csv')\n"
   ]
  },
  {
   "cell_type": "code",
   "execution_count": null,
   "metadata": {},
   "outputs": [],
   "source": [
    "method_2_state_2 = []\n",
    "runtime_method_2_state_2 = []\n",
    "for n in tqdm(range(n_simulations)):\n",
    "    exp_value, runtime = method2(theta_2,phi_2,backend,shots)\n",
    "    method_2_state_2.append(method2(exp_value))\n",
    "    runtime_method_2_state_2.append(runtime)\n",
    "\n",
    "m2_dict.update({'Method 2':method_2_state_2,'Method 2 runtime':runtime_method_2_state_2})\n",
    "pd.DataFrame(m2_dict).to_csv(f'{backend}_state_2.csv')"
   ]
  },
  {
   "cell_type": "markdown",
   "metadata": {},
   "source": [
    "Expectation value analysis"
   ]
  },
  {
   "cell_type": "code",
   "execution_count": null,
   "metadata": {},
   "outputs": [],
   "source": [
    "n_simulations = 20\n",
    "shots = 10 #log scale\n",
    "backend = 'ibmq_belem'\n",
    "state_1_data = pd.read_csv(f'{backend}_state_1.csv')\n",
    "state_1 = r'$\\theta=\\pi/4, \\phi=0$'\n",
    "exp_value_histogram(state_1_data, 'state_1', shots,backend, save = True)"
   ]
  },
  {
   "cell_type": "code",
   "execution_count": null,
   "metadata": {},
   "outputs": [],
   "source": [
    "state_2_data = pd.read_csv(f'{backend}_state_2.csv')\n",
    "state_2 = r'$\\theta=\\pi/8, \\phi=\\pi/4$'\n",
    "exp_value_histogram(state_2_data, 'state_2', shots,backend, mean=0.3827, save = True)"
   ]
  },
  {
   "cell_type": "markdown",
   "metadata": {},
   "source": [
    "Runtime analysis"
   ]
  },
  {
   "cell_type": "code",
   "execution_count": null,
   "metadata": {},
   "outputs": [],
   "source": [
    "#State 1\n",
    "runtime_method_1_state_1_mean = np.mean(state_1_data['Method 1 runtime'])\n",
    "print(f'The mean runtime for method 1 for state 1 is: {runtime_method_1_state_1_mean} s')\n",
    "runtime_method_2_state_1_mean = np.mean(state_1_data['Method 2 runtime'])\n",
    "print(f'The mean runtime for method 2 for state 1 is: {runtime_method_2_state_1_mean} s')"
   ]
  },
  {
   "cell_type": "code",
   "execution_count": null,
   "metadata": {},
   "outputs": [],
   "source": []
  }
 ],
 "metadata": {
  "kernelspec": {
   "display_name": "Python 3 (ipykernel)",
   "language": "python",
   "name": "python3"
  },
  "language_info": {
   "codemirror_mode": {
    "name": "ipython",
    "version": 3
   },
   "file_extension": ".py",
   "mimetype": "text/x-python",
   "name": "python",
   "nbconvert_exporter": "python",
   "pygments_lexer": "ipython3",
   "version": "3.10.0"
  },
  "vscode": {
   "interpreter": {
    "hash": "d165de98b18a6a94d45de9140d86a563bdc2085c28b17ab461548dad74884ef1"
   }
  }
 },
 "nbformat": 4,
 "nbformat_minor": 4
}
