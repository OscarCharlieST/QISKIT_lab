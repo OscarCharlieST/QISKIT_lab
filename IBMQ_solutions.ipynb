{
 "cells": [
  {
   "cell_type": "markdown",
   "metadata": {},
   "source": [
    "# IBM Quantum Experience Lab - Lab script"
   ]
  },
  {
   "cell_type": "markdown",
   "metadata": {},
   "source": [
    "Please use this notebook as a template for the work that you will submit for assessment for this lab exercise.\n",
    "\n",
    "Student Names: Parth Bhandari\n",
    "               Sheila Perez \n",
    "               Charlie Solomons-Tuke"
   ]
  },
  {
   "cell_type": "markdown",
   "metadata": {},
   "source": [
    "## Warm up exercise"
   ]
  },
  {
   "cell_type": "code",
   "execution_count": 81,
   "metadata": {},
   "outputs": [],
   "source": [
    "import matplotlib.pyplot as plt\n",
    "from qiskit import QuantumCircuit, ClassicalRegister, QuantumRegister\n",
    "from qiskit import execute, Aer\n",
    "from qiskit.tools.visualization import circuit_drawer\n",
    "import numpy as np\n",
    "import time"
   ]
  },
  {
   "cell_type": "code",
   "execution_count": 2,
   "metadata": {},
   "outputs": [],
   "source": [
    "qr = QuantumRegister(1)\n",
    "cr = ClassicalRegister(1)\n",
    "\n",
    "circuit = QuantumCircuit(qr, cr)\n",
    "\n",
    "circuit.h(qr[0])\n",
    "circuit.measure(qr[0],cr[0])\n",
    "\n",
    "backend = Aer.get_backend('qasm_simulator')\n",
    "\n",
    "exponent = np.arange(2,20,1) # 2^25 iterations is as much as I can calulate in a reasonable amound of time.\n",
    "expectation = []\n",
    "for s in [2**n for n in exponent]:\n",
    "    job = execute(circuit, backend, shots=s)\n",
    "    result=job.result().get_counts(circuit)\n",
    "    expectation.append((result['0']-result['1'])/(result['0']+result['1']))"
   ]
  },
  {
   "cell_type": "code",
   "execution_count": 3,
   "metadata": {},
   "outputs": [
    {
     "data": {
      "text/plain": [
       "Text(0.5, 0, 'log2(number of itterations)')"
      ]
     },
     "execution_count": 3,
     "metadata": {},
     "output_type": "execute_result"
    },
    {
     "data": {
      "image/png": "[encoded data removed]",
      "text/plain": [
       "<Figure size 720x360 with 1 Axes>"
      ]
     },
     "metadata": {
      "needs_background": "light"
     },
     "output_type": "display_data"
    }
   ],
   "source": [
    "fig = plt.figure(figsize=(10,5))\n",
    "ax = fig.add_subplot()\n",
    "ax.scatter(exponent, expectation)\n",
    "ax.plot(exponent, exponent*0, c=(0.7,.7,0.7))\n",
    "ax.set_ylabel('<Z> expectation value')\n",
    "ax.set_xlabel('log2(number of itterations)')"
   ]
  },
  {
   "cell_type": "markdown",
   "metadata": {},
   "source": [
    "# Main exercise"
   ]
  },
  {
   "cell_type": "markdown",
   "metadata": {},
   "source": [
    "$$\\newcommand{\\ket}[1]{\\left|{#1}\\right\\rangle}$$\n",
    "$$\\newcommand{\\bra}[1]{\\left\\langle{#1}\\right|}$$\n",
    "\n",
    "Let us first figure out what we are expecting from our circuit.\n",
    "\n",
    "The expectation value for any pair $(\\theta, \\phi)$ can be calculated explicitly;\n",
    "\n",
    "\\begin{equation}\n",
    "\\bra{\\phi}M(\\theta)\\ket{\\phi}=\\begin{pmatrix} \\cos(\\phi) & -i\\sin(\\phi) \\end{pmatrix}\n",
    "\\begin{pmatrix} 0 & e^{-i\\theta} \\\\ e^{i\\theta} & 0 \\end{pmatrix}\n",
    "\\begin{pmatrix} \\cos(\\phi) \\\\ i\\sin(\\phi) \\end{pmatrix}\n",
    "= i\\cos(\\phi)\\sin(\\phi)(e^{-i\\theta} - e^{i\\theta}) = \\sin(2\\phi)\\sin(\\theta)\n",
    "\\end{equation}"
   ]
  },
  {
   "cell_type": "code",
   "execution_count": 4,
   "metadata": {
    "scrolled": true
   },
   "outputs": [],
   "source": [
    "import matplotlib.pyplot as plt\n",
    "from qiskit import QuantumCircuit, ClassicalRegister, QuantumRegister\n",
    "from qiskit import execute, Aer\n",
    "from qiskit.visualization import circuit_drawer\n",
    "import numpy as np"
   ]
  },
  {
   "cell_type": "code",
   "execution_count": 5,
   "metadata": {},
   "outputs": [],
   "source": [
    "qr = QuantumRegister(1)\n",
    "cr = ClassicalRegister(1)\n",
    "backend = Aer.get_backend('qasm_simulator')"
   ]
  },
  {
   "cell_type": "markdown",
   "metadata": {},
   "source": [
    "$$\\newcommand{\\ket}[1]{\\left|{#1}\\right\\rangle}$$\n",
    "$$\\newcommand{\\bra}[1]{\\left\\langle{#1}\\right|}$$\n",
    "\n",
    "## Pair 1:  𝜃=𝜋/4,  𝜙=0\n",
    "\n",
    "When $\\phi=0$ the state is simply $\\ket{0}$.\n",
    "\n",
    "For $\\theta = \\pi /4$, the observable in question is\n",
    "\n",
    "$$ M(\\pi/4) = \\begin{bmatrix} 0 & \\frac{1-i}{\\sqrt{2}} \\\\ \\frac{1+i}{\\sqrt{2}} & 0\n",
    "\\end{bmatrix}$$\n",
    "\n",
    "and from above we have that $\\langle M\\rangle = 0$"
   ]
  },
  {
   "cell_type": "markdown",
   "metadata": {},
   "source": [
    "### Method 2\n",
    "\n",
    "We use the identity $M(\\pi/4) = \\frac{1}{\\sqrt{2}} X + Y $, then estimate $X$ and $Y$ independently.\n",
    "\n",
    "Below we define functions for measuring x and y given a circuit and a clasical bit to perform the measurement on."
   ]
  },
  {
   "cell_type": "code",
   "execution_count": 6,
   "metadata": {},
   "outputs": [],
   "source": [
    "def measure_z(circuit, c_bit, shots=1024):\n",
    "    circuit.measure([0],c_bit)\n",
    "    job = execute(circuit, backend, shots=shots)\n",
    "    result = job.result().get_counts(circuit) \n",
    "    keys = list(result.keys())\n",
    "    if set(keys) == set(['0','1']):\n",
    "        return (result['0']-result['1'])/(result['0']+result['1'])   \n",
    "    elif keys == ['0']:\n",
    "        return 1.0\n",
    "    elif keys == ['1']:\n",
    "        return -1.0\n",
    "\n",
    "def measure_x(circuit, c_bit, shots=1024):\n",
    "    circuit.h([0])\n",
    "    circuit.measure([0],c_bit)\n",
    "    job = execute(circuit, backend, shots=shots)\n",
    "    result = job.result().get_counts(circuit)\n",
    "    keys = list(result.keys())\n",
    "    if set(keys) == set(['0','1']):\n",
    "        return (result['0']-result['1'])/(result['0']+result['1'])   \n",
    "    elif keys == ['0']:\n",
    "        return 1.0\n",
    "    elif keys == ['1']:\n",
    "        return -1.0\n",
    "\n",
    "\n",
    "def measure_y(circuit, c_bit, shots=1024):\n",
    "    circuit.s([0])\n",
    "    circuit.s([0])\n",
    "    circuit.s([0]) # using S^-1 = S^3\n",
    "    circuit.h([0])\n",
    "    circuit.measure([0],c_bit)\n",
    "    job = execute(circuit, backend, shots=shots)\n",
    "    result = job.result().get_counts(circuit) \n",
    "    keys = list(result.keys())\n",
    "    if set(keys) == set(['0','1']):\n",
    "        return (result['0']-result['1'])/(result['0']+result['1'])   \n",
    "    elif keys == ['0']:\n",
    "        return 1.0\n",
    "    elif keys == ['1']:\n",
    "        return -1.0\n",
    "\n",
    "def measure_method_2(theta, circuit, qr, cr, shots=1024):\n",
    "    xcircuit = circuit.copy()\n",
    "    x = measure_x(xcircuit, cr[0], shots=shots)\n",
    "    ycircuit = circuit.copy()\n",
    "    circuit_drawer(ycircuit)\n",
    "    y = measure_y(ycircuit, cr[0], shots=shots)\n",
    "    M = np.cos(theta)*x + np.sin(theta)*y\n",
    "    return M"
   ]
  },
  {
   "cell_type": "code",
   "execution_count": 7,
   "metadata": {},
   "outputs": [
    {
     "name": "stdout",
     "output_type": "stream",
     "text": [
      "0.02209708691207961\n"
     ]
    }
   ],
   "source": [
    "circuit = QuantumCircuit(qr, cr)\n",
    "M = measure_method_2(np.pi/4, circuit, qr, cr)\n",
    "\n",
    "print(M)\n"
   ]
  },
  {
   "cell_type": "markdown",
   "metadata": {},
   "source": [
    "### Method 1\n",
    "\n",
    "Note that $M = U(\\theta)XU(\\theta)^\\dagger = U(\\theta)HZHU(\\theta)^\\dagger$, so to measure M we just need to apply $HU(\\theta)^\\dagger$, and then measure $Z$. For $\\theta = \\pi/4$, $HU(\\pi/4)^\\dagger = HT^\\dagger$"
   ]
  },
  {
   "cell_type": "code",
   "execution_count": 8,
   "metadata": {},
   "outputs": [
    {
     "name": "stdout",
     "output_type": "stream",
     "text": [
      "0.01171875\n"
     ]
    }
   ],
   "source": [
    "def measure_method_1(theta, circuit, qr, cr, shots=1024):\n",
    "    zcircuit = circuit.copy()\n",
    "    zcircuit.p(-theta, [0])\n",
    "    zcircuit.h([0])\n",
    "    M = measure_z(zcircuit, cr[0], shots=shots)\n",
    "    return M\n",
    "\n",
    "qr = QuantumRegister(1)\n",
    "cr = ClassicalRegister(1)\n",
    "zcircuit = QuantumCircuit(qr, cr)\n",
    "M = measure_method_1(np.pi/4, zcircuit, qr, cr)\n",
    "print(M)"
   ]
  },
  {
   "cell_type": "markdown",
   "metadata": {},
   "source": [
    "## Pair 2:  𝜃=𝜋/8,  𝜙=𝜋/4\n",
    "\n",
    "For $\\phi = \\pi/4$ the input state is $\\frac{1}{\\sqrt{2}}(\\ket{0} + i\\ket{1}) = \\mathrm{exp}(-i\\pi/4)HU(-\\pi/2)H\\ket{0}$. \n",
    "\n",
    "The formula above gives $\\langle M\\rangle = \\sin(\\pi/8) \\approx 0.3827$.\n",
    "\n",
    "To initialise the state we use the following function:"
   ]
  },
  {
   "cell_type": "code",
   "execution_count": 82,
   "metadata": {},
   "outputs": [],
   "source": [
    "def init_circuit(phi, qr, cr):\n",
    "    circuit = QuantumCircuit(qr, cr)\n",
    "    circuit.h([0])\n",
    "    circuit.p(-2*phi, [0])\n",
    "    circuit.h([0]) # Ignoring global phase\n",
    "    return circuit\n",
    "    \n",
    "N = 1000"
   ]
  },
  {
   "cell_type": "code",
   "execution_count": 83,
   "metadata": {
    "scrolled": true
   },
   "outputs": [
    {
     "name": "stdout",
     "output_type": "stream",
     "text": [
      "Method 1: Time elapsed for 1000 iterations:  9.04491662979126\n"
     ]
    }
   ],
   "source": [
    "# Method 1\n",
    "\n",
    "zcircuit = init_circuit(np.pi/4, qr, cr)\n",
    "M1 = []\n",
    "start=time.time()\n",
    "for i in range(N):\n",
    "    M1.append(measure_method_1(np.pi/8, zcircuit, qr, cr))\n",
    "t1 = time.time()-start\n",
    "print(f'Method 1: Time elapsed for {N} iterations: ', t1)\n"
   ]
  },
  {
   "cell_type": "code",
   "execution_count": 84,
   "metadata": {},
   "outputs": [
    {
     "name": "stdout",
     "output_type": "stream",
     "text": [
      "Method 2: Time elapsed for 1000 iterations:  16.938518285751343\n"
     ]
    }
   ],
   "source": [
    "# Method 2\n",
    "\n",
    "circuit = init_circuit(np.pi/4, qr, cr)\n",
    "M2 = []\n",
    "start=time.time()\n",
    "for i in range(N):\n",
    "    M2.append(measure_method_2(np.pi/8, circuit, qr, cr))\n",
    "t2 = time.time()-start\n",
    "print(f'Method 2: Time elapsed for {N} iterations: ', t2)"
   ]
  },
  {
   "cell_type": "code",
   "execution_count": 85,
   "metadata": {},
   "outputs": [
    {
     "data": {
      "text/plain": [
       "<matplotlib.legend.Legend at 0x29c36068790>"
      ]
     },
     "execution_count": 85,
     "metadata": {},
     "output_type": "execute_result"
    },
    {
     "data": {
      "image/png": "[encoded data removed]",
      "text/plain": [
       "<Figure size 576x360 with 1 Axes>"
      ]
     },
     "metadata": {
      "needs_background": "light"
     },
     "output_type": "display_data"
    }
   ],
   "source": [
    "fig1, ax1 = plt.subplots(figsize=(8,5))\n",
    "ax1.hist(M1, 24, color='b', alpha=0.5, label=f'method 1 ({t1} s)')\n",
    "ax1.hist(M2, 24, color='r', alpha=0.5, label=f'method 2 ({t2} s)')\n",
    "ax1.axvline(0.3827, linestyle='-', c='g', label='True value')\n",
    "ax1.set_xlabel('Estimate of M')\n",
    "ax1.set_ylabel('Frequency')\n",
    "ax1.set_title(f'Results of {N} simulations for '+r'$\\theta=\\pi/4, \\phi=\\pi/8$')\n",
    "ax1.legend()"
   ]
  }
 ],
 "metadata": {
  "kernelspec": {
   "display_name": "Python 3",
   "language": "python",
   "name": "python3"
  },
  "language_info": {
   "codemirror_mode": {
    "name": "ipython",
    "version": 3
   },
   "file_extension": ".py",
   "mimetype": "text/x-python",
   "name": "python",
   "nbconvert_exporter": "python",
   "pygments_lexer": "ipython3",
   "version": "3.8.5"
  }
 },
 "nbformat": 4,
 "nbformat_minor": 4
}
