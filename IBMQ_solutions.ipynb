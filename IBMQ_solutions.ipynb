{
 "cells": [
  {
   "cell_type": "markdown",
   "metadata": {},
   "source": [
    "# IBM Quantum Experience Lab - Lab script"
   ]
  },
  {
   "cell_type": "markdown",
   "metadata": {},
   "source": [
    "Please use this notebook as a template for the work that you will submit for assessment for this lab exercise.\n",
    "\n",
    "Student Names: Parth Bhandari\n",
    "               Sheila Perez \n",
    "               Charlie Solomons-Tuke"
   ]
  },
  {
   "cell_type": "markdown",
   "metadata": {},
   "source": [
    "## Warm up exercise"
   ]
  },
  {
   "cell_type": "code",
   "execution_count": 3,
   "metadata": {},
   "outputs": [],
   "source": [
    "import matplotlib.pyplot as plt\n",
    "from qiskit import QuantumCircuit, ClassicalRegister, QuantumRegister\n",
    "from qiskit import execute, Aer\n",
    "import numpy as np"
   ]
  },
  {
   "cell_type": "code",
   "execution_count": 23,
   "metadata": {},
   "outputs": [],
   "source": [
    "qr = QuantumRegister(1)\n",
    "cr = ClassicalRegister(1)\n",
    "\n",
    "circuit = QuantumCircuit(qr, cr)\n",
    "\n",
    "circuit.h(qr[0])\n",
    "circuit.measure(qr[0],cr[0])\n",
    "\n",
    "backend = Aer.get_backend('qasm_simulator')\n",
    "\n",
    "exponent = np.arange(2,26,1) # 2^25 iterations is as much as I can calulate in a reasonable amound of time.\n",
    "expectation = []\n",
    "for s in [2**n for n in exponent]:\n",
    "    job = execute(circuit, backend, shots=s)\n",
    "    result=job.result().get_counts(circuit)\n",
    "    expectation.append((result['0']-result['1'])/(result['0']+result['1']))"
   ]
  },
  {
   "cell_type": "code",
   "execution_count": 24,
   "metadata": {},
   "outputs": [
    {
     "data": {
      "text/plain": [
       "[<matplotlib.lines.Line2D at 0x1fa123e5b80>]"
      ]
     },
     "execution_count": 24,
     "metadata": {},
     "output_type": "execute_result"
    },
    {
     "data": {
      "image/png": "[encoded data removed]",
      "text/plain": [
       "<Figure size 720x360 with 1 Axes>"
      ]
     },
     "metadata": {
      "needs_background": "light"
     },
     "output_type": "display_data"
    }
   ],
   "source": [
    "fig = plt.figure(figsize=(10,5))\n",
    "ax = fig.add_subplot()\n",
    "ax.scatter(exponent, expectation)\n",
    "ax.plot(exponent, exponent*0, c=(0.7,.7,0.7))"
   ]
  },
  {
   "cell_type": "markdown",
   "metadata": {},
   "source": [
    "## Main exercise"
   ]
  },
  {
   "cell_type": "code",
   "execution_count": null,
   "metadata": {},
   "outputs": [],
   "source": []
  }
 ],
 "metadata": {
  "kernelspec": {
   "display_name": "Python 3",
   "language": "python",
   "name": "python3"
  },
  "language_info": {
   "codemirror_mode": {
    "name": "ipython",
    "version": 3
   },
   "file_extension": ".py",
   "mimetype": "text/x-python",
   "name": "python",
   "nbconvert_exporter": "python",
   "pygments_lexer": "ipython3",
   "version": "3.8.5"
  }
 },
 "nbformat": 4,
 "nbformat_minor": 4
}
