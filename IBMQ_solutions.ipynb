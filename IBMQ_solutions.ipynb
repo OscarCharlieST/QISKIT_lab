{
 "cells": [
  {
   "cell_type": "markdown",
   "metadata": {},
   "source": [
    "# IBM Quantum Experience Lab - Lab script"
   ]
  },
  {
   "cell_type": "markdown",
   "metadata": {},
   "source": [
    "Please use this notebook as a template for the work that you will submit for assessment for this lab exercise.\n",
    "\n",
    "Student Names: Parth Bhandari\n",
    "               Sheila Perez \n",
    "               Charlie Solomons-Tuke"
   ]
  },
  {
   "cell_type": "markdown",
   "metadata": {},
   "source": [
    "## Warm up exercise"
   ]
  },
  {
   "cell_type": "code",
   "execution_count": 6,
   "metadata": {},
   "outputs": [],
   "source": [
    "import matplotlib.pyplot as plt\n",
    "from qiskit import QuantumCircuit, ClassicalRegister, QuantumRegister\n",
    "from qiskit import execute, Aer\n",
    "import numpy as np"
   ]
  },
  {
   "cell_type": "code",
   "execution_count": 7,
   "metadata": {},
   "outputs": [],
   "source": [
    "qr = QuantumRegister(1)\n",
    "cr = ClassicalRegister(1)\n",
    "\n",
    "circuit = QuantumCircuit(qr, cr)\n",
    "\n",
    "circuit.h(qr[0])\n",
    "circuit.measure(qr[0],cr[0])\n",
    "\n",
    "backend = Aer.get_backend('qasm_simulator')\n",
    "\n",
    "exponent = np.arange(2,20,1) # 2^25 iterations is as much as I can calulate in a reasonable amound of time.\n",
    "expectation = []\n",
    "for s in [2**n for n in exponent]:\n",
    "    job = execute(circuit, backend, shots=s)\n",
    "    result=job.result().get_counts(circuit)\n",
    "    expectation.append((result['0']-result['1'])/(result['0']+result['1']))"
   ]
  },
  {
   "cell_type": "code",
   "execution_count": 10,
   "metadata": {},
   "outputs": [
    {
     "data": {
      "text/plain": [
       "Text(0.5, 0, 'log2(number of itterations)')"
      ]
     },
     "execution_count": 10,
     "metadata": {},
     "output_type": "execute_result"
    },
    {
     "data": {
      "image/png": "[encoded data removed]",
      "text/plain": [
       "<Figure size 720x360 with 1 Axes>"
      ]
     },
     "metadata": {
      "needs_background": "light"
     },
     "output_type": "display_data"
    }
   ],
   "source": [
    "fig = plt.figure(figsize=(10,5))\n",
    "ax = fig.add_subplot()\n",
    "ax.scatter(exponent, expectation)\n",
    "ax.plot(exponent, exponent*0, c=(0.7,.7,0.7))\n",
    "ax.set_ylabel('<Z> expectation value')\n",
    "ax.set_xlabel('log2(number of itterations)')"
   ]
  },
  {
   "cell_type": "markdown",
   "metadata": {},
   "source": [
    "## Main exercise"
   ]
  },
  {
   "cell_type": "markdown",
   "metadata": {},
   "source": [
    "First, create our registers:"
   ]
  },
  {
   "cell_type": "code",
   "execution_count": 2,
   "metadata": {
    "scrolled": true
   },
   "outputs": [],
   "source": [
    "import matplotlib.pyplot as plt\n",
    "from qiskit import QuantumCircuit, ClassicalRegister, QuantumRegister\n",
    "from qiskit import execute, Aer\n",
    "import numpy as np"
   ]
  },
  {
   "cell_type": "code",
   "execution_count": 3,
   "metadata": {},
   "outputs": [],
   "source": [
    "qr = QuantumRegister(1)\n",
    "cr = ClassicalRegister(1)\n",
    "backend = Aer.get_backend('qasm_simulator')"
   ]
  },
  {
   "cell_type": "markdown",
   "metadata": {},
   "source": [
    "$$\\newcommand{\\ket}[1]{\\left|{#1}\\right\\rangle}$$\n",
    "\n",
    "### Pair 1:  𝜃=𝜋/4,  𝜙=0\n",
    "\n",
    "When $\\phi=0$ the state is simply $\\ket{0}$.\n",
    "\n",
    "For $\\theta = \\pi /4$, the observable in question is\n",
    "\n",
    "$$ M(\\pi/4) = \\begin{bmatrix} 0 & \\frac{1-i}{\\sqrt{2}} \\\\ \\frac{1+i}{\\sqrt{2}} & 0\n",
    "\\end{bmatrix} = T X T^\\dagger$$"
   ]
  },
  {
   "cell_type": "markdown",
   "metadata": {},
   "source": [
    "### Method 2\n",
    "\n",
    "We use the identity $M(\\pi/4) = \\frac{1}{\\sqrt{2}} X + Y $, then estimate X and Y independently."
   ]
  },
  {
   "cell_type": "code",
   "execution_count": 11,
   "metadata": {},
   "outputs": [],
   "source": [
    "xcircuit = QuantumCircuit(qr, cr)\n",
    "xcircuit.h(qr[0])\n",
    "xcircuit.measure(qr[0],cr[0])\n",
    "job = execute(xcircuit, backend, shots=1024)\n",
    "result=job.result().get_counts(xcircuit)\n",
    "x = (result['0']-result['1'])/(result['0']+result['1'])\n"
   ]
  },
  {
   "cell_type": "code",
   "execution_count": null,
   "metadata": {},
   "outputs": [],
   "source": []
  }
 ],
 "metadata": {
  "kernelspec": {
   "display_name": "Python 3",
   "language": "python",
   "name": "python3"
  },
  "language_info": {
   "codemirror_mode": {
    "name": "ipython",
    "version": 3
   },
   "file_extension": ".py",
   "mimetype": "text/x-python",
   "name": "python",
   "nbconvert_exporter": "python",
   "pygments_lexer": "ipython3",
   "version": "3.8.5"
  }
 },
 "nbformat": 4,
 "nbformat_minor": 4
}
