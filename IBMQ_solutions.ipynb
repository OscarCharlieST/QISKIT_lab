{
 "cells": [
  {
   "cell_type": "markdown",
   "metadata": {},
   "source": [
    "# IBM Quantum Experience Lab - Lab script"
   ]
  },
  {
   "cell_type": "markdown",
   "metadata": {},
   "source": [
    "Please use this notebook as a template for the work that you will submit for assessment for this lab exercise.\n",
    "\n",
    "Student Names: Parth Bhandari\n",
    "               Sheila Perez \n",
    "               Charlie Solomons-Tuke"
   ]
  },
  {
   "cell_type": "markdown",
   "metadata": {},
   "source": [
    "## Warm up exercise"
   ]
  },
  {
   "cell_type": "code",
   "execution_count": 17,
   "metadata": {},
   "outputs": [],
   "source": [
    "import matplotlib.pyplot as plt\n",
    "from qiskit import QuantumCircuit, ClassicalRegister, QuantumRegister\n",
    "from qiskit import execute, Aer\n",
    "from qiskit.tools.visualization import circuit_drawer\n",
    "import numpy as np\n",
    "import time"
   ]
  },
  {
   "cell_type": "code",
   "execution_count": 18,
   "metadata": {},
   "outputs": [],
   "source": [
    "qr = QuantumRegister(1)\n",
    "cr = ClassicalRegister(1)\n",
    "\n",
    "circuit = QuantumCircuit(qr, cr)\n",
    "\n",
    "circuit.h(qr[0])\n",
    "circuit.measure(qr[0],cr[0])\n",
    "\n",
    "backend = Aer.get_backend('qasm_simulator')\n",
    "\n",
    "exponent = np.arange(2,20,1) # 2^25 iterations is as much as I can calulate in a reasonable amound of time.\n",
    "expectation = []\n",
    "for s in [2**n for n in exponent]:\n",
    "    job = execute(circuit, backend, shots=s)\n",
    "    result=job.result().get_counts(circuit)\n",
    "    expectation.append((result['0']-result['1'])/(result['0']+result['1']))"
   ]
  },
  {
   "cell_type": "code",
   "execution_count": 19,
   "metadata": {},
   "outputs": [
    {
     "data": {
      "text/plain": [
       "Text(0.5, 0, 'log2(number of itterations)')"
      ]
     },
     "execution_count": 19,
     "metadata": {},
     "output_type": "execute_result"
    },
    {
     "data": {
      "image/png": "[encoded data removed]",
      "text/plain": [
       "<Figure size 720x360 with 1 Axes>"
      ]
     },
     "metadata": {
      "needs_background": "light"
     },
     "output_type": "display_data"
    }
   ],
   "source": [
    "fig = plt.figure(figsize=(10,5))\n",
    "ax = fig.add_subplot()\n",
    "ax.scatter(exponent, expectation)\n",
    "ax.plot(exponent, exponent*0, c=(0.7,.7,0.7))\n",
    "ax.set_ylabel('<Z> expectation value')\n",
    "ax.set_xlabel('log2(number of itterations)')"
   ]
  },
  {
   "cell_type": "markdown",
   "metadata": {},
   "source": [
    "# Main exercise"
   ]
  },
  {
   "cell_type": "markdown",
   "metadata": {},
   "source": [
    "$$\\newcommand{\\ket}[1]{\\left|{#1}\\right\\rangle}$$\n",
    "$$\\newcommand{\\bra}[1]{\\left\\langle{#1}\\right|}$$\n",
    "\n",
    "Let us first figure out what we are expecting from our circuit.\n",
    "\n",
    "The expectation value for any pair $(\\theta, \\phi)$ can be calculated explicitly;\n",
    "\n",
    "\\begin{equation}\n",
    "\\bra{\\phi}M(\\theta)\\ket{\\phi}=\\begin{pmatrix} \\cos(\\phi) & -i\\sin(\\phi) \\end{pmatrix}\n",
    "\\begin{pmatrix} 0 & e^{-i\\theta} \\\\ e^{i\\theta} & 0 \\end{pmatrix}\n",
    "\\begin{pmatrix} \\cos(\\phi) \\\\ i\\sin(\\phi) \\end{pmatrix}\n",
    "= i\\cos(\\phi)\\sin(\\phi)(e^{-i\\theta} - e^{i\\theta}) = \\sin(2\\phi)\\sin(\\theta)\n",
    "\\end{equation}\n",
    "\n",
    "First, lets set up our imports, as well as some usefull functions. \n",
    "\n",
    "Note that when measuring, if a bit value doesn't occur in any shot it wont appear in the result dictionary. This can lead to key errors which we dodge by looking first at the keys before calculating expectations."
   ]
  },
  {
   "cell_type": "code",
   "execution_count": 32,
   "metadata": {
    "scrolled": true
   },
   "outputs": [],
   "source": [
    "import matplotlib.pyplot as plt\n",
    "from qiskit import QuantumCircuit, ClassicalRegister, QuantumRegister\n",
    "from qiskit import execute, Aer\n",
    "from qiskit.visualization import circuit_drawer\n",
    "import numpy as np\n",
    "import pandas as pd\n",
    "import time"
   ]
  },
  {
   "cell_type": "code",
   "execution_count": 21,
   "metadata": {},
   "outputs": [],
   "source": [
    "def measure_z(circuit, c_bit, shots=1024):\n",
    "    \"\"\"\n",
    "    Takes a circuit and a classical bit, and returns the expectation value of the Z operator.\n",
    "    \"\"\"\n",
    "    circuit.measure([0],c_bit)\n",
    "    job = execute(circuit, backend, shots=shots)\n",
    "    result = job.result().get_counts(circuit) \n",
    "    \n",
    "    keys = list(result.keys())\n",
    "    if set(keys) == set(['0','1']):\n",
    "        return (result['0']-result['1'])/(result['0']+result['1'])   \n",
    "    elif keys == ['0']:\n",
    "        return 1.0\n",
    "    elif keys == ['1']:\n",
    "        return -1.0\n",
    "\n",
    "def measure_x(circuit, c_bit, shots=1024):\n",
    "    \"\"\"\n",
    "    Takes a circuit and a classical bit, and returns the expectation value of the X operator.\n",
    "    \"\"\"\n",
    "    circuit.h([0])\n",
    "    \n",
    "    circuit.measure([0],c_bit)\n",
    "    job = execute(circuit, backend, shots=shots)\n",
    "    result = job.result().get_counts(circuit)\n",
    "    \n",
    "    keys = list(result.keys())\n",
    "    if set(keys) == set(['0','1']):\n",
    "        return (result['0']-result['1'])/(result['0']+result['1'])   \n",
    "    elif keys == ['0']:\n",
    "        return 1.0\n",
    "    elif keys == ['1']:\n",
    "        return -1.0\n",
    "\n",
    "\n",
    "def measure_y(circuit, c_bit, shots=1024):\n",
    "    \"\"\"\n",
    "    Takes a circuit and a classical bit, and returns the expectation value of the Y operator.\n",
    "    \"\"\"\n",
    "    circuit.s([0])\n",
    "    circuit.s([0])\n",
    "    circuit.s([0]) # using S^-1 = S^3\n",
    "    circuit.h([0])\n",
    "    \n",
    "    circuit.measure([0],c_bit)\n",
    "    job = execute(circuit, backend, shots=shots)\n",
    "    result = job.result().get_counts(circuit) \n",
    "    \n",
    "    keys = list(result.keys()) \n",
    "    if set(keys) == set(['0','1']):\n",
    "        return (result['0']-result['1'])/(result['0']+result['1'])   \n",
    "    elif keys == ['0']:\n",
    "        return 1.0\n",
    "    elif keys == ['1']:\n",
    "        return -1.0\n",
    "\n",
    "def measure_method_2(theta, circuit, cr, shots=1024):\n",
    "    \"\"\"\n",
    "    Takes a parameter for the matrix M, and an input state circuit with an attached a classical register, and returns <M> \n",
    "    via the standard VQE method.\n",
    "    \"\"\"\n",
    "    xcircuit = circuit.copy()\n",
    "    x = measure_x(xcircuit, cr[0], shots=shots)\n",
    "    ycircuit = circuit.copy()\n",
    "    circuit_drawer(ycircuit)\n",
    "    y = measure_y(ycircuit, cr[0], shots=shots)\n",
    "    M = np.cos(theta)*x + np.sin(theta)*y\n",
    "    return M\n",
    "\n",
    "def measure_method_1(theta, circuit, cr, shots=1024):\n",
    "    \"\"\"\n",
    "    Takes a parameter for the matrix M, and an input state circuit with an attached a classical register, and returns <M> \n",
    "    via the unitary basis rotation method.\n",
    "    \"\"\"\n",
    "    zcircuit = circuit.copy()\n",
    "    zcircuit.p(-theta, [0])\n",
    "    zcircuit.h([0])\n",
    "    M = measure_z(zcircuit, cr[0], shots=shots)\n",
    "    return M\n"
   ]
  },
  {
   "cell_type": "code",
   "execution_count": 22,
   "metadata": {},
   "outputs": [],
   "source": [
    "qr = QuantumRegister(1)\n",
    "cr = ClassicalRegister(1)\n",
    "backend = Aer.get_backend('qasm_simulator')\n",
    "\n",
    "shots = 2**12 # Number of shots to obtain expectation value\n",
    "N = 500 # The number of iterations used to see statistics of method\n"
   ]
  },
  {
   "cell_type": "markdown",
   "metadata": {},
   "source": [
    "$$\\newcommand{\\ket}[1]{\\left|{#1}\\right\\rangle}$$\n",
    "$$\\newcommand{\\bra}[1]{\\left\\langle{#1}\\right|}$$\n",
    "\n",
    "## Pair 1:  𝜃=𝜋/4,  𝜙=0\n",
    "\n",
    "When $\\phi=0$ the state is simply $\\ket{0}$. Since this is the default state for a fresh qubit in QISKIT, we don't need to do anything to our qubit to reach the correct state.\n",
    "\n",
    "For $\\theta = \\pi /4$, the observable in question is\n",
    "\n",
    "$$ M(\\pi/4) = \\begin{pmatrix} 0 & \\frac{1-i}{\\sqrt{2}} \\\\ \\frac{1+i}{\\sqrt{2}} & 0\n",
    "\\end{pmatrix}$$\n",
    "\n",
    "and from above we have that $\\langle M\\rangle = 0$"
   ]
  },
  {
   "cell_type": "markdown",
   "metadata": {},
   "source": [
    "### Method 1\n",
    "\n",
    "Note that $M = U(\\theta)XU(\\theta)^\\dagger = U(\\theta)HZHU(\\theta)^\\dagger$, so to measure M we just need to apply $HU(\\theta)^\\dagger$, and then measure $Z$. For $\\theta = \\pi/4$, $HU(\\pi/4)^\\dagger = HT^\\dagger$"
   ]
  },
  {
   "cell_type": "code",
   "execution_count": 34,
   "metadata": {},
   "outputs": [],
   "source": [
    "# Method 1\n",
    "\n",
    "zcircuit = QuantumCircuit(qr, cr)\n",
    "M1_1 = []\n",
    "start=time.time()\n",
    "for i in range(N):\n",
    "    M1_1.append(measure_method_1(np.pi/4, zcircuit, cr, shots=shots))\n",
    "t1_1 = time.time()-start"
   ]
  },
  {
   "cell_type": "code",
   "execution_count": 38,
   "metadata": {},
   "outputs": [
    {
     "name": "stdout",
     "output_type": "stream",
     "text": [
      "Method 1: \n",
      "Time elapsed for 500 iterations:  6.828360319137573\n",
      "Mean: -0.0009423828125\n",
      "Std. dev.: 0.01503656619272988\n"
     ]
    }
   ],
   "source": [
    "print(f'Method 1: \\nTime elapsed for {N} iterations of {shots} shots: ', t1_1)\n",
    "print('Mean:', np.mean(M1_1))\n",
    "print('Std. dev.:', np.std(M1_1))"
   ]
  },
  {
   "cell_type": "markdown",
   "metadata": {},
   "source": [
    "### Method 2\n",
    "\n",
    "We use the identity $M(\\pi/4) = \\frac{1}{\\sqrt{2}} X + Y $, then estimate $X$ and $Y$ independently.\n",
    "\n",
    "Below we define functions for measuring x and y given a circuit and a clasical bit to perform the measurement on."
   ]
  },
  {
   "cell_type": "code",
   "execution_count": 39,
   "metadata": {},
   "outputs": [],
   "source": [
    "# Method 2\n",
    "\n",
    "circuit = QuantumCircuit(qr, cr)\n",
    "M2_1 = []\n",
    "start=time.time()\n",
    "for i in range(N):\n",
    "    M2_1.append(measure_method_2(np.pi/4, circuit, cr, shots=shots))\n",
    "t2_1 = time.time()-start"
   ]
  },
  {
   "cell_type": "code",
   "execution_count": 40,
   "metadata": {},
   "outputs": [
    {
     "name": "stdout",
     "output_type": "stream",
     "text": [
      "Method 1: \n",
      "Time elapsed for 500 iterations of 4096 shots:  13.919654369354248\n",
      "Mean: -0.00014017839509850494\n",
      "Std. dev.: 0.015528653317294595\n"
     ]
    }
   ],
   "source": [
    "print(f'Method 2: \\nTime elapsed for {N} iterations of {shots} shots: ', t2_1)\n",
    "print('Mean:', np.mean(M2_1))\n",
    "print('Std. dev.:', np.std(M2_1))"
   ]
  },
  {
   "cell_type": "code",
   "execution_count": 25,
   "metadata": {},
   "outputs": [
    {
     "data": {
      "text/plain": [
       "<matplotlib.legend.Legend at 0x240befdf4c0>"
      ]
     },
     "execution_count": 25,
     "metadata": {},
     "output_type": "execute_result"
    },
    {
     "data": {
      "image/png": "[encoded data removed]",
      "text/plain": [
       "<Figure size 576x360 with 1 Axes>"
      ]
     },
     "metadata": {
      "needs_background": "light"
     },
     "output_type": "display_data"
    }
   ],
   "source": [
    "fig1, ax1 = plt.subplots(figsize=(8,5))\n",
    "bins=np.histogram(np.hstack((M1_1,M2_1)), bins=40)[1]\n",
    "ax1.hist(M1_1, bins, color='b', alpha=0.5, label=f'method 1 ({round(t1/N*1000, 2)} ms/iter)')\n",
    "ax1.hist(M2_1, bins, color='r', alpha=0.5, label=f'method 2 ({round(t2/N*1000, 2)} ms/iter)')\n",
    "ax1.axvline(0.0, linestyle='-', c='g', label='True value')\n",
    "ax1.set_xlabel(r'Estimate of $\\langle M\\rangle$')\n",
    "ax1.set_ylabel('Frequency')\n",
    "ax1.set_title(f'Results of {N} simulations of {shots} shots for '+r'$\\theta=\\pi/4, \\phi=\\pi/8$')\n",
    "ax1.legend()"
   ]
  },
  {
   "cell_type": "markdown",
   "metadata": {},
   "source": [
    "## Pair 2:  𝜃=𝜋/8,  𝜙=𝜋/4\n",
    "\n",
    "For $\\phi = \\pi/4$ the input state is $\\frac{1}{\\sqrt{2}}(\\ket{0} + i\\ket{1}) = \\mathrm{exp}(-i\\pi/4)HU(-\\pi/2)H\\ket{0}$. \n",
    "\n",
    "The formula above gives $\\langle M\\rangle = \\sin(\\pi/8) \\approx 0.3827$.\n",
    "\n",
    "To initialise the state we use the following function:"
   ]
  },
  {
   "cell_type": "code",
   "execution_count": 26,
   "metadata": {},
   "outputs": [],
   "source": [
    "def init_circuit(phi, qr, cr):\n",
    "    circuit = QuantumCircuit(qr, cr)\n",
    "    circuit.h([0])\n",
    "    circuit.p(-2*phi, [0])\n",
    "    circuit.h([0]) # Ignoring global phase\n",
    "    return circuit\n",
    "    "
   ]
  },
  {
   "cell_type": "code",
   "execution_count": 27,
   "metadata": {
    "scrolled": true
   },
   "outputs": [
    {
     "name": "stdout",
     "output_type": "stream",
     "text": [
      "Method 1: Time elapsed for 500 iterations:  6.9725916385650635\n"
     ]
    }
   ],
   "source": [
    "# Method 1\n",
    "\n",
    "zcircuit = init_circuit(np.pi/4, qr, cr)\n",
    "M1_2 = []\n",
    "start=time.time()\n",
    "for i in range(N):\n",
    "    M1_2.append(measure_method_1(np.pi/8, zcircuit, cr, shots=shots))\n",
    "t1_2 = time.time()-start\n"
   ]
  },
  {
   "cell_type": "code",
   "execution_count": null,
   "metadata": {},
   "outputs": [],
   "source": [
    "print(f'Method 1: \\nTime elapsed for {N} iterations of {shots} shots: ', t1_2)\n",
    "print('Mean:', np.mean(M1_2))\n",
    "print('Std. dev.:', np.std(M1_2))"
   ]
  },
  {
   "cell_type": "code",
   "execution_count": 28,
   "metadata": {},
   "outputs": [
    {
     "name": "stdout",
     "output_type": "stream",
     "text": [
      "Method 2: Time elapsed for 500 iterations:  13.777351379394531\n"
     ]
    }
   ],
   "source": [
    "# Method 2\n",
    "\n",
    "circuit = init_circuit(np.pi/4, qr, cr)\n",
    "M2_2 = []\n",
    "start=time.time()\n",
    "for i in range(N):\n",
    "    M2_2.append(measure_method_2(np.pi/8, circuit, cr, shots=shots))\n",
    "t2_2 = time.time()-start"
   ]
  },
  {
   "cell_type": "code",
   "execution_count": 33,
   "metadata": {},
   "outputs": [
    {
     "name": "stdout",
     "output_type": "stream",
     "text": [
      "\n",
      "Statistics:\n",
      "                0\n",
      "count  500.000000\n",
      "mean     0.384043\n",
      "std      0.014185\n",
      "min      0.337572\n",
      "25%      0.373210\n",
      "50%      0.384939\n",
      "75%      0.393059\n",
      "max      0.426441\n"
     ]
    }
   ],
   "source": [
    "print(f'Method 2: \\nTime elapsed for {N} iterations of {shots} shots: ', t2_2)\n",
    "print('Mean:', np.mean(M2_2))\n",
    "print('Std. dev.:', np.std(M2_2))"
   ]
  },
  {
   "cell_type": "code",
   "execution_count": 29,
   "metadata": {},
   "outputs": [
    {
     "data": {
      "text/plain": [
       "<matplotlib.legend.Legend at 0x240bf61d8e0>"
      ]
     },
     "execution_count": 29,
     "metadata": {},
     "output_type": "execute_result"
    },
    {
     "data": {
      "image/png": "[encoded data removed]",
      "text/plain": [
       "<Figure size 576x360 with 1 Axes>"
      ]
     },
     "metadata": {
      "needs_background": "light"
     },
     "output_type": "display_data"
    }
   ],
   "source": [
    "fig1, ax1 = plt.subplots(figsize=(8,5))\n",
    "bins=np.histogram(np.hstack((M1_2,M2_2)), bins=40)[1]\n",
    "ax1.hist(M1_2, bins, color='b', alpha=0.5, label=f'method 1 ({round(t1/N*1000, 2)} ms/iter)')\n",
    "ax1.hist(M2_2, bins, color='r', alpha=0.5, label=f'method 2 ({round(t2/N*1000, 2)} ms/iter)')\n",
    "ax1.axvline(0.3827, linestyle='-', c='g', label='True value')\n",
    "ax1.set_xlabel(r'Estimate of $\\langle M\\rangle$')\n",
    "ax1.set_ylabel('Frequency')\n",
    "ax1.set_title(f'Results of {N} simulations of {shots} shots for '+r'$\\theta=\\pi/4, \\phi=\\pi/8$')\n",
    "ax1.legend()"
   ]
  },
  {
   "cell_type": "code",
   "execution_count": null,
   "metadata": {},
   "outputs": [],
   "source": []
  }
 ],
 "metadata": {
  "kernelspec": {
   "display_name": "Python 3",
   "language": "python",
   "name": "python3"
  },
  "language_info": {
   "codemirror_mode": {
    "name": "ipython",
    "version": 3
   },
   "file_extension": ".py",
   "mimetype": "text/x-python",
   "name": "python",
   "nbconvert_exporter": "python",
   "pygments_lexer": "ipython3",
   "version": "3.8.5"
  }
 },
 "nbformat": 4,
 "nbformat_minor": 4
}
