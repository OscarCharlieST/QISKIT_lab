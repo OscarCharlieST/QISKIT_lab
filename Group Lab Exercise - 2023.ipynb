{
 "cells": [
  {
   "cell_type": "markdown",
   "metadata": {},
   "source": [
    "# IBM Quantum Experience Lab - Lab exercise - Expectation value estimation"
   ]
  },
  {
   "cell_type": "markdown",
   "metadata": {},
   "source": [
    "This is a group exercise. You will be assigned into groups of 3-4. Please work together through this worksheet using the screen-sharing and video chat facilities in Microsoft Teams or your favourite online environment."
   ]
  },
  {
   "cell_type": "markdown",
   "metadata": {},
   "source": [
    "## Background\n",
    "\n",
    "A promising family of algorithms for near-term quantum computers are called variational optimisation algorithms. \n",
    "\n",
    "These are hybrid algorithms with a classical optimiser and a quantum sub-routine. The quantum sub-routines in these algorithms generally have the following form:\n",
    "\n",
    "1. Make a specified state $|\\psi\\rangle$.\n",
    "2. Estimate the expectation value of an observable $A$.\n",
    "\n",
    "It is the simplicity of this family of quantum circuits which makes it convenient for small scale near-term quantum computers.\n",
    "\n",
    "In this lab exercise you will compare **two different methods** of estimating an expectation value on the IBMQ chip, and determine which of them performs best.\n"
   ]
  },
  {
   "cell_type": "markdown",
   "metadata": {},
   "source": [
    "### Warm up exercise\n",
    "\n",
    "To get some practise with expectation values, and using QISKIT to estimate them, we warm up with a simple example.\n",
    "\n",
    "You will estimate the expectation value for a range of states for the observable $Z$.\n",
    "\n",
    "$Z$ has the matrix form: \n",
    "\n",
    "$$ Z = \\begin{bmatrix}1 & 0 \\\\ 0 & -1 \\end{bmatrix}$$\n",
    "\n",
    "Consider a general single qubit state $|{\\psi}\\rangle = \\alpha |0\\rangle + \\beta |1\\rangle$. It has a column vector representation:\n",
    "\n",
    "$$ |\\psi\\rangle = \\begin{bmatrix}\\alpha \\\\ \\beta \\end{bmatrix}$$\n",
    "\n",
    "The expectation value of $Z$ with respect to $|{\\psi}\\rangle$ is then:\n",
    "\n",
    "$$ \\langle {\\psi}| Z|{\\psi}\\rangle = \\begin{bmatrix}\\alpha* & \\beta* \\end{bmatrix}\\begin{bmatrix}1 & 0 \\\\ 0 & -1 \\end{bmatrix}\\begin{bmatrix}\\alpha \\\\ \\beta \\end{bmatrix}=|\\alpha|^2 - |\\beta|^2$$\n",
    "\n",
    "Although this is an easy calculation, the matrices involved scale in size to $2^n$ by $2^n$ for an $n$-qubit state. Therefore this calculation, in general, is not expected to be efficiently acheivable on a classical computer.\n",
    "\n",
    "Operator expectation values therefore represent a very simple form of potential quantum speed-up. "
   ]
  },
  {
   "cell_type": "markdown",
   "metadata": {},
   "source": [
    "## Estimation on a quantum computer\n",
    "\n",
    "On a quantum computer, we cannot obtain an expectation value in a single shot. Instead, we need to repeat the experiment many times and calculate the average.\n",
    "\n",
    "Let's explore this **using the IBMQ simulator**.\n",
    "\n",
    "Let us initially consider the state $|+\\rangle=\\sqrt{1/2}(|0\\rangle+|1\\rangle)$. To measure $Z$ we use the built in standard computational basis measurement. We will need to consider below that the eigenvalues of $Z$ are $+1$ and $-1$ while the outcomes of the measurement in QISKIT are 0 and 1.\n",
    "\n",
    "The circuit is simple to define:\n",
    "\n"
   ]
  },
  {
   "cell_type": "code",
   "execution_count": 1,
   "metadata": {},
   "outputs": [],
   "source": [
    "from qiskit import QuantumCircuit, ClassicalRegister, QuantumRegister\n",
    "from qiskit import execute, Aer\n",
    "from qiskit.tools.visualization import circuit_drawer"
   ]
  },
  {
   "cell_type": "code",
   "execution_count": 2,
   "metadata": {},
   "outputs": [
    {
     "data": {
      "text/html": [
       "<pre style=\"word-wrap: normal;white-space: pre;background: #fff0;line-height: 1.1;font-family: &quot;Courier New&quot;,Courier,monospace\">      ┌───┐┌─┐\n",
       "  q0: ┤ H ├┤M├\n",
       "      └───┘└╥┘\n",
       "c0: 1/══════╩═\n",
       "            0 </pre>"
      ],
      "text/plain": [
       "      ┌───┐┌─┐\n",
       "  q0: ┤ H ├┤M├\n",
       "      └───┘└╥┘\n",
       "c0: 1/══════╩═\n",
       "            0 "
      ]
     },
     "execution_count": 2,
     "metadata": {},
     "output_type": "execute_result"
    }
   ],
   "source": [
    "qr = QuantumRegister(1)\n",
    "cr = ClassicalRegister(1)\n",
    "circuit = QuantumCircuit(qr, cr)\n",
    "\n",
    "circuit.h(qr[0])\n",
    "circuit.measure(qr[0],cr[0])\n",
    "\n",
    "circuit_drawer(circuit)"
   ]
  },
  {
   "cell_type": "markdown",
   "metadata": {},
   "source": [
    "Let us now simulate this circuit on the simulator:\n",
    "\n",
    "    "
   ]
  },
  {
   "cell_type": "code",
   "execution_count": 3,
   "metadata": {},
   "outputs": [],
   "source": [
    "from qiskit import Aer\n",
    "backend = Aer.get_backend('qasm_simulator')"
   ]
  },
  {
   "cell_type": "code",
   "execution_count": 4,
   "metadata": {},
   "outputs": [],
   "source": [
    "job = execute(circuit, backend,shots=1024)\n"
   ]
  },
  {
   "cell_type": "code",
   "execution_count": 5,
   "metadata": {},
   "outputs": [
    {
     "data": {
      "text/plain": [
       "{'1': 501, '0': 523}"
      ]
     },
     "execution_count": 5,
     "metadata": {},
     "output_type": "execute_result"
    }
   ],
   "source": [
    "result=job.result()\n",
    "result.get_counts(circuit)"
   ]
  },
  {
   "cell_type": "markdown",
   "metadata": {},
   "source": [
    "To compute the expectation value, we use the following formula:\n",
    "\n",
    "$$ \\langle Z \\rangle = \\frac{n_0 - n_1}{n_0+n_1}$$\n",
    "\n",
    "Where $n_0$ represents the number of 0 counts, and $n_1$ represents the number of 1 counts.\n",
    "\n",
    "**Important**: It is important that you understand why this formula has the form it does."
   ]
  },
  {
   "cell_type": "code",
   "execution_count": 6,
   "metadata": {},
   "outputs": [
    {
     "name": "stdout",
     "output_type": "stream",
     "text": [
      "0.021484375\n"
     ]
    }
   ],
   "source": [
    "expectation =(result.get_counts(circuit)['0']-result.get_counts(circuit)['1'])/(result.get_counts(circuit)['0']\n",
    "                                                                                +result.get_counts(circuit)['1'])\n",
    "\n",
    "print(expectation)"
   ]
  },
  {
   "cell_type": "markdown",
   "metadata": {},
   "source": [
    "The accuracy of the estimate of the expectation value will depend upon the number of shots."
   ]
  },
  {
   "cell_type": "markdown",
   "metadata": {},
   "source": [
    "**Exercise:** In your Lab Script Notebook, write a short Python routine that uses QISKIT to estimate the expectation value of $Z$ for a range of different number of repetitions (shots) of the measurement. Using Matplotlib to plot your results as a function of the number of shots.\n",
    "\n",
    "Important: **Use the simulator backend for this exercise**\n",
    "\n",
    "Things to look for:\n",
    "* How high does the system allow `shots` to be?\n",
    "* How does the error in the estimate scale with the number of shots?\n"
   ]
  },
  {
   "cell_type": "markdown",
   "metadata": {},
   "source": [
    "# Main lab exercise\n",
    "\n",
    "The aim of this exercise is to assess the relative performance of the following two methods for expectation value estimation when implemented on IBM's chip.\n",
    "\n",
    "## Family of observables\n",
    "\n",
    "The observables we will consider are the following family:\n",
    "\n",
    "$$ M(\\theta) = \\cos (\\theta) X + \\sin (\\theta) Y  = \\begin{bmatrix} 0 & \\cos (\\theta) - i \\sin (\\theta)  \\\\ \\cos (\\theta) + i \\sin (\\theta) & 0\\end{bmatrix} = \\begin{bmatrix} 0 & \\exp[-i \\theta] \\\\ \\exp[i \\theta]  & 0\\end{bmatrix}\n",
    "$$\n",
    "\n",
    "Recall the \"hardware defined gate\", $u_1(\\lambda)$:\n",
    "\n",
    "$$ u_1(\\lambda)=\\begin{bmatrix}1 & 0\\\\0 & \\exp(i \\lambda)\\end{bmatrix}$$\n",
    "\n",
    "We can write $M(\\theta)$ in terms of $ u_1(\\lambda)$ and $X$ as:\n",
    "\n",
    "$$M(\\theta) = u_1(\\theta) X u_1(-\\theta)$$\n",
    "\n",
    "\n",
    "## Family of states\n",
    "\n",
    "The states we will consider here are the following set:\n",
    "\n",
    "$$ |{\\psi (\\phi)}\\rangle=\\cos(\\phi) |0\\rangle + i\\sin(\\phi)|1\\rangle= e^{-i \\phi}H u_1(-2\\phi) H|{0}\\rangle $$\n",
    "\n",
    "\n",
    "\n",
    "\n",
    "\n",
    "\n",
    "\n",
    "\n",
    "## Method 1 (unitary basis rotation method)\n",
    "\n",
    "We estimate $\\langle M \\rangle$ where $M$ shares the same spectrum as $Z$, by finding the unitary $U$ such that\n",
    "\n",
    "$$ M = U Z U^\\dagger $$\n",
    "\n",
    "We can then effectively measure $$M$$ by:\n",
    "\n",
    "* Applying gates to realise $$U^\\dagger$$.\n",
    "* Measuring $$Z$$.\n",
    "\n",
    "By repeating such measurements and analysising the outcomes, we may estimate $\\langle M \\rangle$\n",
    "\n",
    "\n",
    "## Method 2 (standard VQE method)\n",
    "\n",
    "We identify $\\alpha$, $\\beta$, $\\gamma$ and $\\delta$ such that\n",
    "\n",
    "$$M = \\alpha X + \\beta Y + \\gamma Z + \\delta I$$ \n",
    "\n",
    "and effectively estimate $$\\langle M \\rangle $$ by:\n",
    "\n",
    "* Estimating (as many of) $\\langle X \\rangle $,  $\\langle Y \\rangle $,  $\\langle Z \\rangle $ (as is necessary).\n",
    "* Using the formula:\n",
    "\n",
    "$$ \\langle M \\rangle = \\alpha \\langle X \\rangle + \\beta \\langle Y \\rangle + \\gamma \\langle Z \\rangle + \\delta \\langle I \\rangle $$ \n",
    "\n",
    "\n",
    "\n",
    "\n"
   ]
  },
  {
   "cell_type": "markdown",
   "metadata": {},
   "source": [
    "## Aim of the Lab Exercise:\n",
    "\n",
    "Working as a group, estimate the expectation value for the pairs of $\\theta$, $\\phi$ specified below, using the two methods above on IBM's chip, calculating the errors obtained with respect to the exact value, and analysing which method performs best (and why) in these cases.\n",
    "\n",
    "Pair 1: $\\theta= \\pi/4$, $\\phi= 0$\n",
    "Pair 2: $\\theta= \\pi/8$, $\\phi= \\pi/4$\n",
    "\n",
    "To do so, use QISKIT to implement code that implements each of the two methods, and computes expectation value estimates for these pairs. Compare the estimate to the precise value, computed via matrix multiplication.\n",
    "\n",
    "### Tips and advice:\n",
    "\n",
    "\n",
    "* Write and test your code using the simulator first.\n",
    "* Be aware that access to the physical chip may be withdrawn at any time (though IBMQ now have many chips available and down-time is usually short).\n",
    "* Use the chips with the shortest queues for your experiments. \n",
    "\n"
   ]
  },
  {
   "cell_type": "markdown",
   "metadata": {},
   "source": [
    "## Assessment\n",
    "\n",
    "You will be assessed as a group for this exercise. \n",
    "\n",
    "Please submit the following via Moodle (only one person in the group needs to submit it):\n",
    "\n",
    "* A Jupyter Notebook containing the code used to generated your notes.\n",
    "\n",
    "Please annotate your code, so it is clearly explained.\n",
    "\n",
    "* A 1-2 page report summarising your results.\n",
    "\n",
    "The report should contain, a brief introduction, a description of your methods (referring to the Python notebook as appropriate) and a summary and discussion of your findings.\n",
    "\n",
    "Deadline:  **4pm Monday 21st Feb 2022**. \n",
    "\n",
    "**Please ensure that both the Notebook and the Report contain the names of all members of your group**.\n",
    "\n",
    "A marking guideline can found found on Moodle.\n",
    "\n"
   ]
  },
  {
   "cell_type": "code",
   "execution_count": null,
   "metadata": {},
   "outputs": [],
   "source": []
  }
 ],
 "metadata": {
  "kernelspec": {
   "display_name": "Python 3",
   "language": "python",
   "name": "python3"
  },
  "language_info": {
   "codemirror_mode": {
    "name": "ipython",
    "version": 3
   },
   "file_extension": ".py",
   "mimetype": "text/x-python",
   "name": "python",
   "nbconvert_exporter": "python",
   "pygments_lexer": "ipython3",
   "version": "3.8.5"
  }
 },
 "nbformat": 4,
 "nbformat_minor": 4
}
